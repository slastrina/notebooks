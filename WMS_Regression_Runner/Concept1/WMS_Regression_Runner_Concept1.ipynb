{
 "cells": [
  {
   "cell_type": "markdown",
   "metadata": {},
   "source": [
    "## WMS Regression Runner V1"
   ]
  },
  {
   "cell_type": "code",
   "execution_count": 5,
   "metadata": {
    "collapsed": true,
    "pycharm": {
     "is_executing": false
    }
   },
   "outputs": [],
   "source": [
    "from PIL import Image, ImageChops, ImageStat\n",
    "from os import remove\n",
    "import argparse\n",
    "import sys"
   ]
  },
  {
   "cell_type": "code",
   "execution_count": 6,
   "metadata": {
    "collapsed": true,
    "pycharm": {
     "is_executing": false
    }
   },
   "outputs": [],
   "source": [
    "diff_img_file = 'diff_img.jpg'\n",
    "\n",
    "def diff(im1_file, \n",
    "         im2_file, \n",
    "         delete_diff_file=False, \n",
    "         diff_img_file=diff_img_file):\n",
    "    im1 = Image.open(im1_file)\n",
    "    im2 = Image.open(im2_file)\n",
    "    diff_img = ImageChops.difference(im1,im2)\n",
    "    diff_img.convert('RGB').save(diff_img_file)\n",
    "    stat = ImageStat.Stat(diff_img)\n",
    "    # can be [r,g,b] or [r,g,b,a]\n",
    "    sum_channel_values = sum(stat.mean)\n",
    "    max_all_channels = len(stat.mean) * 100\n",
    "    diff_ratio = sum_channel_values/max_all_channels\n",
    "    if delete_diff_file:\n",
    "        remove(diff_img_file)\n",
    "    return diff_ratio"
   ]
  },
  {
   "cell_type": "code",
   "execution_count": 9,
   "metadata": {
    "collapsed": false,
    "pycharm": {
     "is_executing": false
    }
   },
   "outputs": [
    {
     "name": "stdout",
     "text": [
      "Images differ by 23.537237803141274%\n"
     ],
     "output_type": "stream"
    }
   ],
   "source": [
    "diff_ratio = diff('wms1.jpg', \n",
    "                  'wms3.jpg', \n",
    "                  False,\n",
    "                  'diff1.jpg')\n",
    "\n",
    "print('Images differ by {}%'.format(diff_ratio*100))"
   ]
  },
  {
   "cell_type": "markdown",
   "metadata": {
    "collapsed": true
   },
   "source": [
    "## Input 1\n",
    "![title](wms1.jpg)\n",
    "\n",
    "## Input 2\n",
    "![title](wms2.jpg)\n",
    "\n",
    "## Diff\n",
    "![title](diff1.jpg)"
   ]
  }
 ],
 "metadata": {
  "kernelspec": {
   "name": "python3",
   "language": "python",
   "display_name": "Python 3"
  },
  "language_info": {
   "codemirror_mode": {
    "name": "ipython",
    "version": 2
   },
   "file_extension": ".py",
   "mimetype": "text/x-python",
   "name": "python",
   "nbconvert_exporter": "python",
   "pygments_lexer": "ipython2",
   "version": "2.7.13"
  },
  "pycharm": {
   "stem_cell": {
    "cell_type": "raw",
    "source": [],
    "metadata": {
     "collapsed": false
    }
   }
  }
 },
 "nbformat": 4,
 "nbformat_minor": 2
}