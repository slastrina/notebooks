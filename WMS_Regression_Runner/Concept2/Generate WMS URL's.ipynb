{
 "cells": [
  {
   "cell_type": "code",
   "execution_count": 1,
   "metadata": {
    "collapsed": false,
    "pycharm": {
     "is_executing": false
    }
   },
   "outputs": [
    {
     "name": "stdout",
     "text": [
      "10000 Requests written to file 20191203_0202_requests.csv\n"
     ],
     "output_type": "stream"
    }
   ],
   "source": [
    "import logging\n",
    "from datetime import datetime\n",
    "\n",
    "timestamp = datetime.now().strftime('%Y%m%d_%H%M_')\n",
    "loggerFilename = \"{}reqBuilder.log\".format(timestamp)\n",
    "outputFilename = \"{}requests.csv\".format(timestamp)\n",
    "\n",
    "logger = logging.getLogger(__name__)\n",
    "logger.setLevel(logging.INFO)\n",
    "# create a file handler\n",
    "handler = logging.FileHandler(loggerFilename)\n",
    "handler.setLevel(logging.INFO)\n",
    "# create a logging format\n",
    "formatter = logging.Formatter('%(asctime)s - %(name)s - %(levelname)s - %(message)s')\n",
    "handler.setFormatter(formatter)\n",
    "# add the handlers to the logger\n",
    "logger.addHandler(handler)\n",
    "\n",
    "# Sample bounding box taken from GAIA - located somewhere in the CBD, These are in long and lat (Tools->Map Region)\n",
    "#minx = 145.031036717514\n",
    "#maxx = 145.03631986817\n",
    "#miny = -37.9016436199178\n",
    "#maxy = -37.8963604692623\n",
    "\n",
    "minx = 145.282742318613\n",
    "maxx = 145.288193690464\n",
    "miny = -37.8865223988944\n",
    "maxy = -37.8830873778363\n",
    "\n",
    "# The Output tiles are PNG, this is the resolution of the tile returned by the query\n",
    "tileWidth = 1024\n",
    "tileHeight = 768\n",
    "\n",
    "# WMS Protocol Version\n",
    "wmsVersion = '1.3.0'\n",
    "\n",
    "# Base Storm address\n",
    "stormAddress = 'http://127.0.0.1/spatialSTORM'\n",
    "\n",
    "modelVersion = 'v8_2_1'\n",
    "\n",
    "# These are the layers to include in the query - A single PNG with all these layers will be returned\n",
    "layers = 'NetworkNodes,SupportCabinets,NetworkCables,SupportDucts,SupportPillars,SupportPits,SupportStrands,NetworkEquipments,SupportPoles' # 'SupportPoles,Copper' # comma separated\n",
    "\n",
    "# Increases the bounding box size - When the bounding box difference in x and y is calculated, the box will be approx 580m in both long and lat. This is a quick adjustment\n",
    "bbMultiplier = 1 # Multiplier for bounding box # simple way to expand the grid size, see km(x) and km(y) changes\n",
    "\n",
    "# Calculates the difference in X and Y, this is used in the loop later to create a grid of tiles\n",
    "diffX = (maxx-minx)*bbMultiplier # Latitude Degrees\n",
    "diffY = (maxy-miny)*bbMultiplier\n",
    "\n",
    "# This is what 1 degree long/lat equates to in km's and miles\n",
    "unitDegKms = 110.567 # 1 lat or long degree is 110.567 km's\n",
    "unitDegMiles = 68.703 # 1 lat or long degree is 68.703 miles\n",
    "\n",
    "# Will tack on extra wms query params to the end of the request, must start with &, each param separated by &\n",
    "extraRequestParams = '' # e.g &BGCOLOR=0xFFFFFF\n",
    "\n",
    "# General Debug information to tie against the output\n",
    "logger.info(\"****************** Tool Started ******************\".format(minx, maxx, miny, maxy))\n",
    "logger.info(\"Bounding Box[ minx:{}, maxx:{}, miny:{}, maxy:{} ]\".format(minx, maxx, miny, maxy))\n",
    "logger.info(\"tileWidth:{}, tileHeight:{}\".format(tileWidth, tileHeight))\n",
    "logger.info(\"StormAddress:{}\".format(stormAddress))\n",
    "logger.info(\"Layers:{}\".format(layers))\n",
    "logger.info(\"ExtraParams:{}\".format(extraRequestParams))\n",
    "logger.info(\"WMSVersion:{}\".format(wmsVersion))\n",
    "logger.info(\"Multiplier: {}\".format(bbMultiplier))\n",
    "logger.info(\"Lat(x):{}, Long(y):{}\".format(diffX/bbMultiplier, diffY/bbMultiplier))\n",
    "logger.info(\"Km(x):{}, Km(y):{}\".format((diffX*unitDegKms)/bbMultiplier, (diffY*unitDegKms)/bbMultiplier))\n",
    "logger.info(\"Lat(x*multiplier):{}, Long(y*multiplier):{}\".format(diffX, diffY))\n",
    "logger.info(\"Km(x*multiplier):{}, Km(y*multiplier):{}\".format(diffX*unitDegKms, diffY*unitDegKms))\n",
    "\n",
    "# General storage variables for later calculating the grid size\n",
    "count = 0\n",
    "minXGrid = 0.0\n",
    "minYGrid = 0.0\n",
    "maxXGrid = 0.0\n",
    "maxYGrid = 0.0\n",
    "\n",
    "# Main logic:\n",
    "#   Opens a file for writing,\n",
    "#   Creates a grid of 100x100 tiles (10000 queries)\n",
    "#   Calculates the min and max of each axis for the bounding box in each query\n",
    "#   Write the query line by line\n",
    "with open(outputFilename, \"w\") as f:\n",
    "    for y in range(-50, 50):\n",
    "        for x in range (-50, 50):\n",
    "            xTempMin = ((x-1)*diffX+minx)\n",
    "            xTempMax = (x*diffX+minx)\n",
    "            yTempMin = ((y-1)*diffY+miny)\n",
    "            yTempMax = (y*diffY+miny)\n",
    "            #print xTempMin, xTempMax, yTempMin, yTempMax\n",
    "            if count == 0:\n",
    "                minXGrid = xTempMin\n",
    "                minYGrid = yTempMin\n",
    "            f.write(\"{}/spatialSUITE/{}/wms?REQUEST=GetMap&SERVICE=WMS&VERSION={}&LAYERS={}&STYLES=&FORMAT=image/png&TRANSPARENT=TRUE&CRS=EPSG:4326&BBOX={},{},{},{}&WIDTH={}&HEIGHT={}{}\\n\".format(stormAddress, modelVersion, wmsVersion, layers, yTempMin, xTempMin, yTempMax, xTempMax, tileWidth, tileHeight, extraRequestParams))\n",
    "            count += 1\n",
    "    maxXGrid = xTempMax\n",
    "    maxYGrid = yTempMax\n",
    "\n",
    "# Calculates the grid difference in degrees\n",
    "diffXGrid = (maxXGrid - minXGrid)  # Latitude Degrees\n",
    "diffYGrid = (maxYGrid - minYGrid)\n",
    "\n",
    "# Outputs the grid size to file in both degrees and km's spanned\n",
    "logger.info(\"GRID [ minx:{}, maxx:{}, miny:{}, maxy:{} ]\".format(minXGrid, maxXGrid, minYGrid, maxYGrid))\n",
    "logger.info(\"GRID Span: LatGRIDdeg(x):{}, LongGRID(y):{}\".format(diffXGrid, diffYGrid))\n",
    "logger.info(\"GRID Span: LatGRIDKm(x):{}, LongGRIDKm(y):{}\".format(diffXGrid * unitDegKms, diffYGrid * unitDegKms))\n",
    "\n",
    "# Writes the count value and filename of the output\n",
    "logOut = \"{} Requests written to file {}\".format(count, outputFilename)\n",
    "logger.info(logOut)\n",
    "print(logOut)\n",
    "\n",
    "logger.info(\"****************** Tool Finished ******************\".format(minx, maxx, miny, maxy))\n",
    "\n"
   ]
  },
  {
   "cell_type": "code",
   "execution_count": 1,
   "metadata": {
    "collapsed": true,
    "pycharm": {
     "is_executing": false
    }
   },
   "outputs": [],
   "source": []
  },
  {
   "cell_type": "code",
   "execution_count": null,
   "outputs": [],
   "source": [
    "\n"
   ],
   "metadata": {
    "collapsed": false,
    "pycharm": {
     "name": "#%%\n"
    }
   }
  }
 ],
 "metadata": {
  "kernelspec": {
   "name": "python3",
   "language": "python",
   "display_name": "Python 3"
  },
  "language_info": {
   "codemirror_mode": {
    "name": "ipython",
    "version": 2
   },
   "file_extension": ".py",
   "mimetype": "text/x-python",
   "name": "python",
   "nbconvert_exporter": "python",
   "pygments_lexer": "ipython2",
   "version": "2.7.13"
  },
  "pycharm": {
   "stem_cell": {
    "cell_type": "raw",
    "source": [],
    "metadata": {
     "collapsed": false
    }
   }
  }
 },
 "nbformat": 4,
 "nbformat_minor": 2
}