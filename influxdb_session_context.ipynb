{
 "cells": [
  {
   "cell_type": "code",
   "execution_count": 10,
   "metadata": {},
   "outputs": [
    {
     "name": "stdout",
     "output_type": "stream",
     "text": [
      "<influxdb.client.InfluxDBClient object at 0x7f00e36eddd8>\n"
     ]
    }
   ],
   "source": [
    "from influxdb import InfluxDBClient\n",
    "\n",
    "# Python context for influxdb session\n",
    "class influxdb_context():\n",
    "    def __init__(self, address, username, password, db_name, port = 8086):\n",
    "        self._address = address\n",
    "        self._username = username\n",
    "        self._password = password\n",
    "        self._db_name = db_name\n",
    "        self._port = port\n",
    "\n",
    "    def __enter__(self):\n",
    "        self.open_influxdb_session = InfluxDBClient(self._address, self._port, self._username, self._password, self._db_name)\n",
    "        return self.open_influxdb_session\n",
    "\n",
    "    def __exit__(self, *args):\n",
    "        self.open_influxdb_session.close()\n",
    "        \n",
    "with influxdb_context(address = '127.0.0.1', username = 'root', password = 'root', db_name = 'junk_test') as test:\n",
    "    print(test)"
   ]
  },
  {
   "cell_type": "code",
   "execution_count": null,
   "metadata": {},
   "outputs": [],
   "source": []
  }
 ],
 "metadata": {
  "kernelspec": {
   "display_name": "Python 3",
   "language": "python",
   "name": "python3"
  },
  "language_info": {
   "codemirror_mode": {
    "name": "ipython",
    "version": 3
   },
   "file_extension": ".py",
   "mimetype": "text/x-python",
   "name": "python",
   "nbconvert_exporter": "python",
   "pygments_lexer": "ipython3",
   "version": "3.6.5"
  },
  "pycharm": {
   "stem_cell": {
    "cell_type": "raw",
    "source": [],
    "metadata": {
     "collapsed": false
    }
   }
  }
 },
 "nbformat": 4,
 "nbformat_minor": 2
}