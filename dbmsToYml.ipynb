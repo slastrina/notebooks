{
 "cells": [
  {
   "cell_type": "code",
   "execution_count": 1,
   "metadata": {
    "collapsed": false,
    "scrolled": true,
    "pycharm": {
     "is_executing": false
    }
   },
   "outputs": [
    {
     "name": "stdout",
     "text": [
      "No ini files found in \"./in\" directory\n"
     ],
     "output_type": "stream"
    }
   ],
   "source": [
    "import os\n",
    "import errno\n",
    "import re\n",
    "import itertools\n",
    "import pprint\n",
    "import cx_Oracle\n",
    "\n",
    "directory =  os.getcwd()\n",
    "inputDirectory = os.path.join(directory, './in')\n",
    "outputDirectory = os.path.join(directory, './out')\n",
    "schemaVersionSql = 'SELECT MAX(version) FROM SPATIALNETFM_VERSION ORDER BY DATE_INSTALLED DESC'\n",
    "\n",
    "def dictToFile(pathAndFilename, dictionary):\n",
    "    with open(pathAndFilename, \"w\") as file:\n",
    "        for k, v in dictionary.items():\n",
    "            dictionary_content = k + \": \" + v + \"\\n\"\n",
    "            file.write(dictionary_content)\n",
    "\n",
    "# create subdirectory\n",
    "try:\n",
    "    os.makedirs(inputDirectory)\n",
    "except OSError as exception:\n",
    "    if exception.errno != errno.EEXIST:\n",
    "        raise\n",
    "        \n",
    "try:\n",
    "    os.makedirs(outputDirectory)\n",
    "except OSError as exception:\n",
    "    if exception.errno != errno.EEXIST:\n",
    "        raise\n",
    "\n",
    "count = 0\n",
    "        \n",
    "for filename in os.listdir(inputDirectory): # count list of ini files\n",
    "    if \".ini\" in filename or \".INI\" in filename:\n",
    "        count += 1\n",
    "        \n",
    "        print(os.path.join(inputDirectory, filename))\n",
    "        \n",
    "        with open(os.path.join(inputDirectory, filename), \"r\") as fileObj:\n",
    "            fileData = fileObj.read()\n",
    "            \n",
    "        fileData = dict(re.findall(r'(.+)=(.+\\S)', fileData, re.MULTILINE)) # capture everything before equals and after equals but only up until the last actual character, not whitespace\n",
    "        \n",
    "        #print pprint.pprint(fileData)\n",
    "        \n",
    "        newList = []\n",
    "        try:\n",
    "            newList.append(('database_source',fileData[\"DATABASE_NAME\"].lstrip(' ')))\n",
    "            newList.append(('database_user',fileData[\"USERNAME\"].lstrip(' ')))\n",
    "            newList.append(('database_password',fileData[\"PASSWORD\"].lstrip(' ')))\n",
    "\n",
    "            connectionString = '{}/{}@{}'.format(fileData[\"USERNAME\"].lstrip(' '), fileData[\"PASSWORD\"].lstrip(' '), fileData[\"DATABASE_NAME\"].lstrip(' '))\n",
    "            #print connectionString\n",
    "            \n",
    "            try:\n",
    "                # Make connection to oracle\n",
    "                conn = cx_Oracle.connect(connectionString)\n",
    "                c = conn.cursor()\n",
    "\n",
    "                # Execute the sql query\n",
    "                c.execute(schemaVersionSql)\n",
    "\n",
    "                # Get all output of the query as a list\n",
    "                data = c.fetchall()  \n",
    "            except exception as e:\n",
    "                data = None\n",
    "            \n",
    "            # If data is returned\n",
    "            if data:\n",
    "                version = data[0][0]\n",
    "                #print version\n",
    "                if '6.2.2.9' in version: newList.append(('spatial_model_version', 'v6_2_2_9'))\n",
    "                elif '7.1.0.0' in version: newList.append(('spatial_model_version', 'v7_1_0'))\n",
    "                elif '8.1.0.0' in version: newList.append(('spatial_model_version', 'v8_1_0'))\n",
    "                else: newList.append(('spatial_model_version', ''))\n",
    "            else:\n",
    "            # If the query doesn't return data - The index doesn't exist\n",
    "                newList.append(('spatial_model_version', ''))\n",
    "\n",
    "            print(pprint.pprint(newList))\n",
    "            \n",
    "            dictToFile(os.path.join(outputDirectory, os.path.splitext(filename)[0] + '.yml'), dict(newList))\n",
    "            \n",
    "        except exception as ex:\n",
    "            print(ex)\n",
    "        \n",
    "    else:\n",
    "        continue\n",
    "\n",
    "if count is 0:\n",
    "    print('No ini files found in \"./in\" directory')"
   ]
  },
  {
   "cell_type": "code",
   "execution_count": null,
   "metadata": {
    "collapsed": true
   },
   "outputs": [],
   "source": []
  },
  {
   "cell_type": "code",
   "execution_count": null,
   "metadata": {
    "collapsed": true
   },
   "outputs": [],
   "source": []
  }
 ],
 "metadata": {
  "kernelspec": {
   "name": "python3",
   "language": "python",
   "display_name": "Python 3"
  },
  "language_info": {
   "codemirror_mode": {
    "name": "ipython",
    "version": 2
   },
   "file_extension": ".py",
   "mimetype": "text/x-python",
   "name": "python",
   "nbconvert_exporter": "python",
   "pygments_lexer": "ipython2",
   "version": "2.7.13"
  },
  "pycharm": {
   "stem_cell": {
    "cell_type": "raw",
    "source": [],
    "metadata": {
     "collapsed": false
    }
   }
  }
 },
 "nbformat": 4,
 "nbformat_minor": 2
}