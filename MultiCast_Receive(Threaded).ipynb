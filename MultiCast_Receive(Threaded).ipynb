{
 "cells": [
  {
   "cell_type": "code",
   "execution_count": null,
   "metadata": {
    "collapsed": false
   },
   "outputs": [
    {
     "name": "stdout",
     "output_type": "stream",
     "text": [
      "Thread-1, Thu Mar  9 04:06:39 2017, Message: Sam has called, Sender: ('127.0.0.1', 51435)\n",
      "Thread-1, Thu Mar  9 04:06:40 2017, Message: Sam has called, Sender: ('127.0.0.1', 56855)\n",
      "Thread-1, Thu Mar  9 04:06:40 2017, Message: Sam has called, Sender: ('127.0.0.1', 50813)\n"
     ]
    }
   ],
   "source": [
    "import socket\n",
    "import struct\n",
    "import threading\n",
    "import time\n",
    "import sys\n",
    "\n",
    "# UDP Multicast settings\n",
    "MCAST_GRP = '224.1.1.1'\n",
    "MCAST_PORT = 5007\n",
    "\n",
    "exitFlag = 0\n",
    "\n",
    "class respThread (threading.Thread):\n",
    "    def __init__(self, threadID, name, socket, freq):\n",
    "        threading.Thread.__init__(self)\n",
    "        self.threadID = threadID\n",
    "        self.name = name\n",
    "        self.sock = socket\n",
    "        self.freq = freq\n",
    "        \n",
    "    def run(self):\n",
    "        while(1):\n",
    "            time.sleep(self.freq)\n",
    "            try:\n",
    "                message, address = sock.recvfrom(10240)\n",
    "                \n",
    "                print '{}, {}, Message: {}, Sender: {}'.format(self.name, time.ctime(time.time()), message, address)\n",
    "            except:\n",
    "                None\n",
    "                #print \"Unexpected error:\", sys.exc_info()[0]\n",
    "\n",
    "# Multicast Socket setup\n",
    "sock = socket.socket(socket.AF_INET, socket.SOCK_DGRAM, socket.IPPROTO_UDP)\n",
    "sock.setsockopt(socket.SOL_SOCKET, socket.SO_REUSEADDR, 1)\n",
    "sock.bind(('', MCAST_PORT))  # use MCAST_GRP instead of '' to listen only\n",
    "                             # to MCAST_GRP, not all groups on MCAST_PORT\n",
    "mreq = struct.pack(\"4sl\", socket.inet_aton(MCAST_GRP), socket.INADDR_ANY)\n",
    "sock.setsockopt(socket.IPPROTO_IP, socket.IP_ADD_MEMBERSHIP, mreq)\n",
    "sock.setblocking(0)\n",
    "\n",
    "# Create new threads\n",
    "thread1 = respThread(1, \"Thread-1\", sock, 0.05)\n",
    "\n",
    "# Start new Threads\n",
    "thread1.start()\n",
    "\n",
    "while(1):\n",
    "    time.sleep(100)\n"
   ]
  },
  {
   "cell_type": "code",
   "execution_count": null,
   "metadata": {
    "collapsed": true
   },
   "outputs": [],
   "source": []
  }
 ],
 "metadata": {
  "kernelspec": {
   "display_name": "Python 2",
   "language": "python",
   "name": "python2"
  },
  "language_info": {
   "codemirror_mode": {
    "name": "ipython",
    "version": 2
   },
   "file_extension": ".py",
   "mimetype": "text/x-python",
   "name": "python",
   "nbconvert_exporter": "python",
   "pygments_lexer": "ipython2",
   "version": "2.7.13"
  }
 },
 "nbformat": 4,
 "nbformat_minor": 2
}
