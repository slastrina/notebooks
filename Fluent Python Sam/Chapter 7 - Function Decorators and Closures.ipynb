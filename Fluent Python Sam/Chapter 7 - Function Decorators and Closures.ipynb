{
 "cells": [
  {
   "cell_type": "markdown",
   "metadata": {},
   "source": [
    "# Decorators 101"
   ]
  },
  {
   "cell_type": "markdown",
   "metadata": {},
   "source": [
    "A decorator is a callable that takes another function as argument (the decorated function). The decorator may perform some processing with the decorated function, and returns it or replaces it with another function or callable object\n",
    "\n",
    "A key feature of decorators is that **they run right after the decorated function is defined**. That is usually at import time (i.e., when a module is loaded by Python). Consider registration.py in Example 7-2."
   ]
  },
  {
   "cell_type": "code",
   "execution_count": 10,
   "metadata": {},
   "outputs": [
    {
     "name": "stdout",
     "output_type": "stream",
     "text": [
      "running register(<function f1 at 0x7f3e1dfced08>)\n",
      "running register(<function f2 at 0x7f3e1dfced90>)\n",
      "running main()\n",
      "registry -> [<function f1 at 0x7f3e1dfced08>, <function f2 at 0x7f3e1dfced90>]\n",
      "running f1()\n",
      "running f2()\n",
      "running f3()\n"
     ]
    }
   ],
   "source": [
    "# registry will hold references to functions decorated by @register.\n",
    "registry = []\n",
    "\n",
    "# register takes a function as argument\n",
    "def register(func):\n",
    "    \n",
    "    # Display what function is being decorated, for demonstration\n",
    "    print(f'running register({func})') \n",
    "    \n",
    "    # Append func in registry\n",
    "    registry.append(func)\n",
    "    \n",
    "    # Return func: we must return a function; here we return the same received as argument.\n",
    "    return func\n",
    "\n",
    "# f1 and f2 are decorated by @register.\n",
    "@register\n",
    "def f1():\n",
    "    print('running f1()')\n",
    "\n",
    "@register\n",
    "def f2():\n",
    "    print('running f2()') \n",
    "\n",
    "# f3 is not decorated.\n",
    "def f3():\n",
    "    print('running f3()')\n",
    "    \n",
    "# main displays the registry, then calls f1(), f2(), and f3()\n",
    "def main():\n",
    "    print('running main()') \n",
    "    print('registry ->', registry) # Note, only f1 and f2 are in the register\n",
    "    \n",
    "    # These are regular function calls\n",
    "    f1()\n",
    "    f2()\n",
    "    f3()\n",
    "    \n",
    "# main() is only invoked if registration.py runs as a script\n",
    "if __name__=='__main__': \n",
    "    main()\n",
    "    \n",
    "# If the file is imported, only register runs"
   ]
  },
  {
   "cell_type": "markdown",
   "metadata": {},
   "source": [
    "Note that register runs (twice) before any other function in the module. When reg ister is called, it receives as an argument the function object being decorated—for example, <function f1 at 0x100631bf8>.\n",
    "\n",
    "After the module is loaded, the registry holds references to the two decorated func‐ tions: f1 and f2. These functions, as well as f3, are only executed when explicitly called by main."
   ]
  },
  {
   "cell_type": "code",
   "execution_count": null,
   "metadata": {},
   "outputs": [],
   "source": []
  }
 ],
 "metadata": {
  "kernelspec": {
   "display_name": "Python 3",
   "language": "python",
   "name": "python3"
  },
  "language_info": {
   "codemirror_mode": {
    "name": "ipython",
    "version": 3
   },
   "file_extension": ".py",
   "mimetype": "text/x-python",
   "name": "python",
   "nbconvert_exporter": "python",
   "pygments_lexer": "ipython3",
   "version": "3.6.5"
  }
 },
 "nbformat": 4,
 "nbformat_minor": 2
}
