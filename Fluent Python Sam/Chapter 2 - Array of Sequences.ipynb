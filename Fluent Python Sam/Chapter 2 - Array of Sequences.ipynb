{
 "cells": [
  {
   "cell_type": "code",
   "execution_count": 2,
   "metadata": {},
   "outputs": [
    {
     "name": "stdout",
     "output_type": "stream",
     "text": [
      "[36, 162, 163, 165, 8364, 164]\n"
     ]
    }
   ],
   "source": [
    "# List Comprehensions\n",
    "\n",
    "symbols = '$¢£¥€¤'\n",
    "codes = [ord(symbol) for symbol in symbols] # ORD: Given a string of len 1, return unicode code point of the character\n",
    "print(codes)"
   ]
  },
  {
   "cell_type": "code",
   "execution_count": 4,
   "metadata": {},
   "outputs": [
    {
     "name": "stdout",
     "output_type": "stream",
     "text": [
      "my precious\n"
     ]
    }
   ],
   "source": [
    "x = 'my precious'\n",
    "dummy = [x for x in 'ABC'] \n",
    "print(x) \n",
    "\n",
    "# In python 3, x inside a for loop is scoped only to the loop, previous declaration of x is not overwritten like in py2\n",
    "# List comprehensions, generator expressions, and their siblings set and dict compre‐hensions now have their own local scope, like functions"
   ]
  },
  {
   "cell_type": "code",
   "execution_count": 5,
   "metadata": {},
   "outputs": [
    {
     "name": "stdout",
     "output_type": "stream",
     "text": [
      "[162, 163, 165, 8364, 164]\n",
      "[162, 163, 165, 8364, 164]\n"
     ]
    }
   ],
   "source": [
    "# List Comprehension vs Map and Filter\n",
    "symbols = '$¢£¥€¤'\n",
    "\n",
    "# List Comprehension\n",
    "beyond_ascii = [ord(s) for s in symbols if ord(s) > 127]\n",
    "print(beyond_ascii)\n",
    "\n",
    "# Map and Filter\n",
    "beyond_ascii = list(filter(lambda c: c > 127, map(ord, symbols)))\n",
    "print(beyond_ascii)\n",
    "\n",
    "# List comp is equivelent and just as fast as map and filter"
   ]
  },
  {
   "cell_type": "code",
   "execution_count": 11,
   "metadata": {},
   "outputs": [
    {
     "name": "stdout",
     "output_type": "stream",
     "text": [
      "[('black', 'S'), ('black', 'M'), ('black', 'L'), ('white', 'S'), ('white', 'M'), ('white', 'L')]\n",
      "[('black', 'S'), ('black', 'M'), ('black', 'L'), ('white', 'S'), ('white', 'M'), ('white', 'L')]\n",
      "[('black', 'S'), ('black', 'M'), ('black', 'L'), ('white', 'S'), ('white', 'M'), ('white', 'L')]\n"
     ]
    }
   ],
   "source": [
    "# Example 2-4 Cartesian Product using list comprehension\n",
    "\n",
    "colors = ['black', 'white']\n",
    "sizes = ['S', 'M', 'L']\n",
    "tshirts = [(color, size) for color in colors for size in sizes]\n",
    "print(tshirts)\n",
    "\n",
    "# equivelent to double for loop\n",
    "\n",
    "result = []\n",
    "for color in colors:\n",
    "    for size in sizes:\n",
    "        result.append((color, size))\n",
    "print(result)\n",
    "\n",
    "# Example multiline list comprehension\n",
    "tshirts = [(color, size) for color in colors\n",
    "                         for size in sizes]\n",
    "print(tshirts)"
   ]
  },
  {
   "cell_type": "code",
   "execution_count": 14,
   "metadata": {},
   "outputs": [
    {
     "name": "stdout",
     "output_type": "stream",
     "text": [
      "(36, 162, 163, 165, 8364, 164)\n",
      "array('I', [36, 162, 163, 165, 8364, 164])\n"
     ]
    }
   ],
   "source": [
    "# Generator Expressions\n",
    "\n",
    "# To initialize tuples, arrays, and other types of sequences, you could also start from a\n",
    "# listcomp, but a genexp saves memory because it yields items one by one using the\n",
    "# iterator protocol instead of building a whole list just to feed another constructor\n",
    "\n",
    "symbols = '$¢£¥€¤'\n",
    "\n",
    "print(tuple(ord(symbol) for symbol in symbols))\n",
    "\n",
    "import array\n",
    "\n",
    "print(array.array('I', (ord(symbol) for symbol in symbols)))"
   ]
  },
  {
   "cell_type": "code",
   "execution_count": 16,
   "metadata": {},
   "outputs": [
    {
     "name": "stdout",
     "output_type": "stream",
     "text": [
      "black S\n",
      "black M\n",
      "black L\n",
      "white S\n",
      "white M\n",
      "white L\n"
     ]
    }
   ],
   "source": [
    "# Cartesian product in a generator expression\n",
    "colors = ['black', 'white']\n",
    "sizes = ['S', 'M', 'L']\n",
    "\n",
    "for tshirt in ('%s %s' % (c, s) for c in colors for s in sizes):\n",
    "    print(tshirt)\n"
   ]
  },
  {
   "cell_type": "code",
   "execution_count": 22,
   "metadata": {},
   "outputs": [
    {
     "name": "stdout",
     "output_type": "stream",
     "text": [
      "BRA/CE342567\n",
      "ESP/XDA205856\n",
      "USA/31195855\n",
      "\n",
      "USA\n",
      "BRA\n",
      "ESP\n"
     ]
    }
   ],
   "source": [
    "#Tuples as Records\n",
    "\n",
    "lax_coordinates = (33.9425, -118.408056) # Latitude and longitude of the Los Angeles International Airport\n",
    "city, year, pop, chg, area = ('Tokyo', 2003, 32450, 0.66, 8014) # Data about Tokyo: name, year, population (millions), population change (%), area (km²)\n",
    "traveler_ids = [('USA', '31195855'), ('BRA', 'CE342567'), ('ESP', 'XDA205856')] # List of tuples (country_code, passport_number)\n",
    "\n",
    "for passport in sorted(traveler_ids): # As we iterate over the list, passport is bound to each tuple\n",
    "    print('%s/%s' % passport) # The % formatting operator understands tuples and treats each item as a separate field\n",
    "    \n",
    "print()\n",
    "    \n",
    "# The for loop knows how to retrieve the items of a tuple separately—this is called\n",
    "# “unpacking.” Here we are not interested in the second item, so it’s assigned to _, a dummy variable\n",
    "for country, _ in traveler_ids:\n",
    "    print(country)"
   ]
  },
  {
   "cell_type": "code",
   "execution_count": 24,
   "metadata": {},
   "outputs": [
    {
     "name": "stdout",
     "output_type": "stream",
     "text": [
      "33.9425\n",
      "-118.408056\n"
     ]
    }
   ],
   "source": [
    "# Tuple Parallel Unpacking\n",
    "lax_coordinates = (33.9425, -118.408056)\n",
    "latitude, longitude = lax_coordinates # tuple unpacking\n",
    "\n",
    "print(latitude)\n",
    "print(longitude)"
   ]
  },
  {
   "cell_type": "code",
   "execution_count": 29,
   "metadata": {},
   "outputs": [
    {
     "name": "stdout",
     "output_type": "stream",
     "text": [
      "15 20\n",
      "20 15\n"
     ]
    }
   ],
   "source": [
    "# Swapping values without using a temp variable using tuple unpacking\n",
    "a = 15\n",
    "b = 20\n",
    "print(a, b)\n",
    "\n",
    "b, a = a, b\n",
    "\n",
    "print(a, b)"
   ]
  },
  {
   "cell_type": "code",
   "execution_count": 37,
   "metadata": {},
   "outputs": [
    {
     "name": "stdout",
     "output_type": "stream",
     "text": [
      "(2, 4)\n",
      "(2, 4)\n",
      "(2, 4)\n"
     ]
    }
   ],
   "source": [
    "# Tuple unpacking by prefixing an argument with *\n",
    "\n",
    "print(divmod(20, 8))\n",
    "\n",
    "t = (20, 8)\n",
    "print(divmod(*t)) # * unpacks all tuple items as function inputs i.e. *t == (20, 8)\n",
    "\n",
    "quotient, remainder = divmod(*t)\n",
    "\n",
    "print((quotient, remainder))"
   ]
  },
  {
   "cell_type": "code",
   "execution_count": 39,
   "metadata": {},
   "outputs": [
    {
     "name": "stdout",
     "output_type": "stream",
     "text": [
      "idrsa.pub\n"
     ]
    }
   ],
   "source": [
    "import os\n",
    "_, filename = os.path.split('/home/luciano/.ssh/idrsa.pub') # os.path.split() function builds a tuple (path, last_part) from a filesystem path\n",
    "print(filename)"
   ]
  },
  {
   "cell_type": "code",
   "execution_count": 46,
   "metadata": {},
   "outputs": [
    {
     "name": "stdout",
     "output_type": "stream",
     "text": [
      "0 1 [2, 3, 4]\n",
      "0 1 [2]\n",
      "0 1 []\n",
      "\n",
      "0 [1, 2] 3 4\n",
      "[0, 1] 2 3 4\n"
     ]
    }
   ],
   "source": [
    "# Using *args to grab excess items (parallel assignment - Py3 only)\n",
    "\n",
    "a, b, *rest = range(5)\n",
    "print(a, b, rest)\n",
    "\n",
    "a, b, *rest = range(3)\n",
    "print(a, b, rest)\n",
    "\n",
    "a, b, *rest = range(2)\n",
    "print(a, b, rest)\n",
    "\n",
    "print()\n",
    "\n",
    "# Above example uses *args at the end of a tuple unpack, its also possible at any position\n",
    "a, *body, c, d = range(5)\n",
    "print(a, body, c, d)\n",
    "\n",
    "*head, b, c, d = range(5)\n",
    "print(head, b, c, d)"
   ]
  },
  {
   "cell_type": "code",
   "execution_count": 48,
   "metadata": {},
   "outputs": [
    {
     "name": "stdout",
     "output_type": "stream",
     "text": [
      "                |   lat.    |   long.  \n",
      "Mexico City     |   19.4333 |  -99.1333\n",
      "New York-Newark |   40.8086 |  -74.0204\n",
      "Sao Paulo       |  -23.5478 |  -46.6358\n"
     ]
    }
   ],
   "source": [
    "# Nested Tuple Unpacking\n",
    "\n",
    "metro_areas = [\n",
    "    ('Tokyo', 'JP', 36.933, (35.689722, 139.691667)),\n",
    "    ('Delhi NCR', 'IN', 21.935, (28.613889, 77.208889)),\n",
    "    ('Mexico City', 'MX', 20.142, (19.433333, -99.133333)),\n",
    "    ('New York-Newark', 'US', 20.104, (40.808611, -74.020386)),\n",
    "    ('Sao Paulo', 'BR', 19.649, (-23.547778, -46.635833)),\n",
    "]\n",
    "\n",
    "print('{:15} | {:^9} | {:^9}'.format('', 'lat.', 'long.')) # Print header\n",
    "\n",
    "fmt = '{:15} | {:9.4f} | {:9.4f}' # Define the template for table output\n",
    "\n",
    "for name, cc, pop, (latitude, longitude) in metro_areas:\n",
    "    if longitude <= 0:\n",
    "        print(fmt.format(name, latitude, longitude))"
   ]
  },
  {
   "cell_type": "code",
   "execution_count": 54,
   "metadata": {},
   "outputs": [
    {
     "name": "stdout",
     "output_type": "stream",
     "text": [
      "City(name='Tokyo', country='JP', population=36.933, coordinates=(35.689722, 139.691667))\n",
      "JP\n",
      "JP\n",
      "36.933\n",
      "(35.689722, 139.691667)\n"
     ]
    }
   ],
   "source": [
    "# named tuple with nested tuple\n",
    "\n",
    "from collections import namedtuple\n",
    "\n",
    "# Two parameters are required to create a named tuple: a class name and a list of\n",
    "# field names, which can be given as an iterable of strings or as a single spacedelimited string\n",
    "City = namedtuple('City', 'name country population coordinates')\n",
    "\n",
    "tokyo = City('Tokyo', 'JP', 36.933, (35.689722, 139.691667))\n",
    "\n",
    "print(tokyo)\n",
    "\n",
    "# You can access the fields by name or position\n",
    "print(tokyo.country)\n",
    "print(tokyo[1])\n",
    "\n",
    "print(tokyo.population)\n",
    "print(tokyo.coordinates)\n"
   ]
  },
  {
   "cell_type": "code",
   "execution_count": 65,
   "metadata": {},
   "outputs": [
    {
     "name": "stdout",
     "output_type": "stream",
     "text": [
      "('name', 'country', 'population', 'coordinates')\n",
      "\n",
      "OrderedDict([('name', 'Delhi NCR'), ('country', 'IN'), ('population', 21.935), ('coordinates', LatLong(lat=28.613889, long=77.208889))])\n",
      "\n",
      "name: Delhi NCR\n",
      "country: IN\n",
      "population: 21.935\n",
      "coordinates: LatLong(lat=28.613889, long=77.208889)\n"
     ]
    }
   ],
   "source": [
    "# Named Tuples continued\n",
    "print(City._fields) # fields is a tuple with the field names of the class\n",
    "\n",
    "LatLong = namedtuple('LatLong', 'lat long') \n",
    "\n",
    "delhi_data = ('Delhi NCR', 'IN', 21.935, LatLong(28.613889, 77.208889)) # Create a tuple without using the named tuple\n",
    "\n",
    "print()\n",
    "\n",
    "delhi = City._make(delhi_data) # _make() allow you to instantiate a named tuple from an iterable; City(*delhi_data) would do the same\n",
    "\n",
    "print(delhi._asdict()) # asdict() returns a collections.OrderedDict built from the named tuple instance. That can be used to produce a nice display of city data\n",
    "\n",
    "print()\n",
    "\n",
    "for key, value in delhi._asdict().items(): # prints each value in dict\n",
    "    print(key + ':', value)"
   ]
  },
  {
   "cell_type": "markdown",
   "metadata": {},
   "source": [
    "# Slicing"
   ]
  },
  {
   "cell_type": "code",
   "execution_count": 69,
   "metadata": {},
   "outputs": [
    {
     "name": "stdout",
     "output_type": "stream",
     "text": [
      "[10, 20]\n",
      "[30, 40, 50, 60]\n",
      "[10, 20, 30]\n",
      "[40, 50, 60]\n"
     ]
    }
   ],
   "source": [
    "# Standard list Slicing\n",
    "\n",
    "#idx 0   1   2   3   4   5\n",
    "l = [10, 20, 30, 40, 50, 60]\n",
    "print(l[:2]) # slice at idx 2 and give me left of it # [10, 20]\n",
    "print(l[2:]) # slice at idx 2 and give me right of it # [30, 40, 50, 60]\n",
    "print(l[:3]) # slice at idx 2 and give me left of it # [10, 20, 30]\n",
    "print(l[3:]) # slice at idx 2 and give me right of it # [40, 50, 60]"
   ]
  },
  {
   "cell_type": "code",
   "execution_count": 72,
   "metadata": {},
   "outputs": [
    {
     "name": "stdout",
     "output_type": "stream",
     "text": [
      "bye\n",
      "elcycib\n",
      "eccb\n"
     ]
    }
   ],
   "source": [
    "# Slice objects\n",
    "# This is no secret, but worth repeating just in case: s[a:b:c] can be used to specify a\n",
    "# stride or step c, causing the resulting slice to skip items. The stride can also be nega‐tive, \n",
    "# returning items in reverse. Three examples make this clear\n",
    "\n",
    "# a = start\n",
    "# b = stop\n",
    "# c = step\n",
    "\n",
    "# s[start, stop, step]\n",
    "\n",
    "s = 'bicycle'\n",
    "print(s[::3]) # grab every 3 in forward direction starting at 0 i.e. b . . y . . e, 'bye' \n",
    "print(s[::-1]) # grab every character in reverse 'elcycib'\n",
    "print(s[::-2]) # grab every second character starting at last i.e. 'eccb' "
   ]
  },
  {
   "cell_type": "code",
   "execution_count": 75,
   "metadata": {},
   "outputs": [
    {
     "name": "stdout",
     "output_type": "stream",
     "text": [
      "    $17.50   Pimoroni PiBrella                 \n",
      "     $4.95   6mm Tactile Switch x20            \n",
      "    $28.00   Panavise Jr. - PV-201             \n",
      "    $34.95   PiTFT Mini Kit 320x240            \n",
      " \n"
     ]
    }
   ],
   "source": [
    "invoice = \"\"\"\n",
    "... 0.....6.................................40........52...55........\n",
    "... 1909  Pimoroni PiBrella                     $17.50    3   $52.50\n",
    "... 1489  6mm Tactile Switch x20                 $4.95    2    $9.90\n",
    "... 1510  Panavise Jr. - PV-201                 $28.00    1   $28.00\n",
    "... 1601  PiTFT Mini Kit 320x240                $34.95    1   $34.95\n",
    "... \"\"\"\n",
    "SKU = slice(0, 6)\n",
    "DESCRIPTION = slice(6, 40)\n",
    "UNIT_PRICE = slice(40, 52)\n",
    "QUANTITY = slice(52, 55)\n",
    "ITEM_TOTAL = slice(55, None)\n",
    "line_items = invoice.split('\\n')[2:]\n",
    "\n",
    "for item in line_items:\n",
    "    print(item[UNIT_PRICE], item[DESCRIPTION])"
   ]
  },
  {
   "cell_type": "code",
   "execution_count": 88,
   "metadata": {},
   "outputs": [
    {
     "name": "stdout",
     "output_type": "stream",
     "text": [
      "a [0, 1, 2, 3, 4, 5, 6, 7, 8, 9]\n",
      "b [0, 1, 20, 30, 5, 6, 7, 8, 9]\n",
      "c [0, 1, 20, 30, 5, 8, 9]\n",
      "d [0, 1, 20, 11, 5, 22, 9]\n",
      "e [0, 1, 100, 22, 9]\n"
     ]
    },
    {
     "ename": "TypeError",
     "evalue": "can only assign an iterable",
     "output_type": "error",
     "traceback": [
      "\u001b[0;31m---------------------------------------------------------------------------\u001b[0m",
      "\u001b[0;31mTypeError\u001b[0m                                 Traceback (most recent call last)",
      "\u001b[0;32m<ipython-input-88-a22541cbe9f8>\u001b[0m in \u001b[0;36m<module>\u001b[0;34m()\u001b[0m\n\u001b[1;32m     16\u001b[0m \u001b[0mprint\u001b[0m\u001b[0;34m(\u001b[0m\u001b[0;34m'e'\u001b[0m\u001b[0;34m,\u001b[0m \u001b[0ml\u001b[0m\u001b[0;34m)\u001b[0m\u001b[0;34m\u001b[0m\u001b[0m\n\u001b[1;32m     17\u001b[0m \u001b[0;34m\u001b[0m\u001b[0m\n\u001b[0;32m---> 18\u001b[0;31m \u001b[0ml\u001b[0m\u001b[0;34m[\u001b[0m\u001b[0;36m2\u001b[0m\u001b[0;34m:\u001b[0m\u001b[0;36m5\u001b[0m\u001b[0;34m]\u001b[0m \u001b[0;34m=\u001b[0m \u001b[0;36m100\u001b[0m \u001b[0;31m# only iterables can be assigned not values\u001b[0m\u001b[0;34m\u001b[0m\u001b[0m\n\u001b[0m",
      "\u001b[0;31mTypeError\u001b[0m: can only assign an iterable"
     ]
    }
   ],
   "source": [
    "# Assigning to Slices\n",
    "\n",
    "l = list(range(10))\n",
    "print('a', l) # standard list\n",
    "\n",
    "l[2:5] = [20, 30] # 0,1,slice,2,3,4,slice,5,6,7,8,9, replace items between slice with [20,30], 4 is lost\n",
    "print('b', l)\n",
    "\n",
    "del l[5:7] # 0,1,20,30,5,slice,6,7,slice,8,9 delete between slice\n",
    "print('c', l)\n",
    "\n",
    "l[3::2] = [11, 22] # slice at pos 3 step 2 hence 0,1,20,replace w/11,5,replace w/22,9\n",
    "print('d', l)\n",
    "\n",
    "l[2:5] = [100] # 0,1,slice,20,11,5,slice,22,9 slice 2 and 5 replace with 100\n",
    "print('e', l)\n",
    "\n",
    "l[2:5] = 100 # When the target of the assignment is a slice, the right side must be an iterable object, even if it has just one item"
   ]
  },
  {
   "cell_type": "markdown",
   "metadata": {},
   "source": [
    "# Using + and * with slices"
   ]
  },
  {
   "cell_type": "code",
   "execution_count": 92,
   "metadata": {},
   "outputs": [
    {
     "name": "stdout",
     "output_type": "stream",
     "text": [
      "[1, 2, 3, 1, 2, 3, 1, 2, 3, 1, 2, 3, 1, 2, 3]\n",
      "abcdabcdabcdabcdabcd\n"
     ]
    }
   ],
   "source": [
    "l = [1, 2, 3]\n",
    "print(l*5)\n",
    "\n",
    "print(5 * 'abcd')\n"
   ]
  },
  {
   "cell_type": "code",
   "execution_count": 101,
   "metadata": {},
   "outputs": [
    {
     "name": "stdout",
     "output_type": "stream",
     "text": [
      "[['_', '_', '_'], ['_', '_', '_'], ['_', '_', '_']]\n",
      "[['_', '_', '_'], ['_', '_', 'X'], ['_', '_', '_']]\n",
      "\n",
      "[['_', '_', '_'], ['_', '_', '_'], ['_', '_', '_']]\n",
      "[['_', '_', 'X'], ['_', '_', 'X'], ['_', '_', 'X']]\n"
     ]
    }
   ],
   "source": [
    "# Example how list comprehension can be used to intialize multidimentional list i.e. for tic tac toe\n",
    "board = [['_'] * 3 for i in range(3)]\n",
    "print(board)\n",
    "board[1][2] = 'X'\n",
    "print(board)\n",
    "\n",
    "print()\n",
    "\n",
    "# Example of bad implemntation causing each row to reference each other\n",
    "weird_board = [['_'] * 3] * 3\n",
    "print(weird_board)\n",
    "weird_board[1][2] = 'X'\n",
    "print(weird_board)"
   ]
  },
  {
   "cell_type": "markdown",
   "metadata": {},
   "source": [
    "# Augmented Assignment with Sequences"
   ]
  },
  {
   "cell_type": "code",
   "execution_count": 108,
   "metadata": {},
   "outputs": [
    {
     "name": "stdout",
     "output_type": "stream",
     "text": [
      "[1, 2, 3]\n",
      "140684879488968\n",
      "[1, 2, 3, 1, 2, 3]\n",
      "140684879488968\n",
      "\n",
      "(1, 2, 3)\n",
      "140684879762344\n",
      "(1, 2, 3, 1, 2, 3)\n",
      "140684880521928\n"
     ]
    }
   ],
   "source": [
    "# I.e. +=, -=, *=, \n",
    "# The special method: __iadd__ (in place addition), if __iadd__ not implemented, python falls back to __add__\n",
    "# The special method: __imul__ (in place multiplication), if __imul__ not implemented, python falls back to __mul__\n",
    "\n",
    "# for mutuble object, id/memory location stay the same as the origional object can be updated\n",
    "l = [1, 2, 3]\n",
    "print(l)\n",
    "print(id(l))\n",
    "\n",
    "l *= 2 # After multiplication, the list is the same object, with new items appended\n",
    "print(l)\n",
    "print(id(l))\n",
    "\n",
    "print()\n",
    "\n",
    "# for immutable object (tuple), id/memory location changes as a new object is created\n",
    "t = (1, 2, 3)\n",
    "print(t)\n",
    "print(id(t))\n",
    "t *= 2 # A new tuple is created after multiplication\n",
    "print(t)\n",
    "print(id(t))"
   ]
  },
  {
   "cell_type": "markdown",
   "metadata": {},
   "source": [
    "# list.sort and the sorted Built-In Function"
   ]
  },
  {
   "cell_type": "code",
   "execution_count": 119,
   "metadata": {},
   "outputs": [
    {
     "name": "stdout",
     "output_type": "stream",
     "text": [
      "a ['apple', 'banana', 'grape', 'raspberry']\n",
      "b ['grape', 'raspberry', 'apple', 'banana']\n",
      "c ['raspberry', 'grape', 'banana', 'apple']\n",
      "d ['grape', 'apple', 'banana', 'raspberry']\n",
      "e ['raspberry', 'banana', 'grape', 'apple']\n",
      "f ['grape', 'raspberry', 'apple', 'banana']\n",
      "g ['apple', 'banana', 'grape', 'raspberry']\n"
     ]
    }
   ],
   "source": [
    "fruits = ['grape', 'raspberry', 'apple', 'banana']\n",
    "\n",
    "print('a', sorted(fruits)) # sorts and returns a new object, does not perform in place edit\n",
    "print('b', fruits) # proves above sorted did not change origional list\n",
    "\n",
    "print('c', sorted(fruits, reverse=True)) # demonstrates the reverse attribute\n",
    "\n",
    "print('d', sorted(fruits, key=len)) # sorting by length of each list item (function based sort, each item passed to fn)\n",
    "\n",
    "print('e', sorted(fruits, key=len, reverse=True)) # sort by function and in reverse order\n",
    "\n",
    "print('f', fruits) # demonstrate none of the above have modified the origional list\n",
    "\n",
    "fruits.sort() # sort in place\n",
    "\n",
    "print('g', fruits) # show that .sort() modified origional list in place"
   ]
  },
  {
   "cell_type": "markdown",
   "metadata": {},
   "source": [
    "# Managing ordered sequences with bisect"
   ]
  },
  {
   "cell_type": "code",
   "execution_count": 127,
   "metadata": {},
   "outputs": [
    {
     "name": "stdout",
     "output_type": "stream",
     "text": [
      "DEMO: bisect\n",
      "haystack ->  1  4  5  6  8 12 15 20 21 23 23 26 29 30\n",
      "31 @ 14  | | | | | | | | | | | | | |31\n",
      "30 @ 14  | | | | | | | | | | | | | |30\n",
      "29 @ 13  | | | | | | | | | | | | |29\n",
      "23 @ 11  | | | | | | | | | | |23\n",
      "22 @  9  | | | | | | | | |22\n",
      "10 @  5  | | | | |10\n",
      " 8 @  5  | | | | |8 \n",
      " 5 @  3  | | |5 \n",
      " 2 @  1  |2 \n",
      " 1 @  1  |1 \n",
      " 0 @  0 0 \n"
     ]
    }
   ],
   "source": [
    "# See Page 49 Fluent Python\n",
    "\n",
    "import bisect\n",
    "import sys\n",
    "\n",
    "HAYSTACK = [1, 4, 5, 6, 8, 12, 15, 20, 21, 23, 23, 26, 29, 30]\n",
    "NEEDLES = [0, 1, 2, 5, 8, 10, 22, 23, 29, 30, 31]\n",
    "\n",
    "ROW_FMT = '{0:2d} @ {1:2d} {2}{0:<2d}'\n",
    "\n",
    "def demo(bisect_fn):\n",
    "    for needle in reversed(NEEDLES):\n",
    "        position = bisect_fn(HAYSTACK, needle)\n",
    "        offset = position * ' |'\n",
    "        print(ROW_FMT.format(needle, position, offset))\n",
    "        \n",
    "if __name__ == '__main__':\n",
    "    if sys.argv[-1] == 'left':\n",
    "        bisect_fn = bisect.bisect_left\n",
    "    else:\n",
    "        bisect_fn = bisect.bisect\n",
    "        print('DEMO:', bisect_fn.__name__)\n",
    "        print('haystack ->', ' '.join('%2d' % n for n in HAYSTACK))\n",
    "        demo(bisect_fn)"
   ]
  },
  {
   "cell_type": "code",
   "execution_count": 131,
   "metadata": {},
   "outputs": [
    {
     "name": "stdout",
     "output_type": "stream",
     "text": [
      "['F', 'A', 'C', 'C', 'B', 'A', 'A']\n"
     ]
    }
   ],
   "source": [
    "# Example 2-18. Given a test score, grade returns the corresponding letter grade\n",
    "def grade(score, breakpoints=[60, 70, 80, 90], grades='FDCBA'):\n",
    "    i = bisect.bisect(breakpoints, score)\n",
    "    return grades[i]\n",
    "\n",
    "print([grade(score) for score in [33, 99, 77, 70, 89, 90, 100]])"
   ]
  },
  {
   "cell_type": "code",
   "execution_count": 154,
   "metadata": {},
   "outputs": [
    {
     "name": "stdout",
     "output_type": "stream",
     "text": [
      "10 -> [10]\n",
      " 0 -> [0, 10]\n",
      " 6 -> [0, 6, 10]\n",
      " 8 -> [0, 6, 8, 10]\n",
      " 7 -> [0, 6, 7, 8, 10]\n",
      " 2 -> [0, 2, 6, 7, 8, 10]\n",
      "10 -> [0, 2, 6, 7, 8, 10, 10]\n"
     ]
    }
   ],
   "source": [
    "# Inserting with bisect.insort\n",
    "# insort(seq, item) inserts item into seq so as to keep seq in ascending order\n",
    "\n",
    "import bisect\n",
    "import random\n",
    "\n",
    "SIZE = 7\n",
    "\n",
    "random.seed(1729)\n",
    "\n",
    "my_list = []\n",
    "for i in range(SIZE):\n",
    "    new_item = random.randrange(SIZE*2)\n",
    "    bisect.insort(my_list, new_item)\n",
    "    print('%2d ->' % new_item, my_list)\n"
   ]
  },
  {
   "cell_type": "markdown",
   "metadata": {},
   "source": [
    "# When a List Is Not the Answer\n"
   ]
  },
  {
   "cell_type": "code",
   "execution_count": 158,
   "metadata": {},
   "outputs": [
    {
     "name": "stdout",
     "output_type": "stream",
     "text": [
      "last float in array 0.8303070521720001\n",
      "last float in array (after retrieval from disk) 0.8303070521720001\n",
      "True\n"
     ]
    }
   ],
   "source": [
    "# Arrays\n",
    "# More efficient for numbers i.e. floats, Arrays do not store entire float but rather only the packed bytes representing their machine values.\n",
    "# As lean as a C array, on instantiation you must provide typecode matching c type i.e. b is the typecode for signed char (byte)\n",
    "\n",
    "from array import array\n",
    "from random import random\n",
    "\n",
    "floats = array('d', (random() for i in range(10**7))) # create array of 10 million random doubles\n",
    "\n",
    "print('last float in array', floats[-1]) # print last array value\n",
    "\n",
    "with open('floats.bin', 'wb') as fp: # write 10 million array values to disk as binary\n",
    "    floats.tofile(fp)\n",
    "    \n",
    "floats2 = array('d')\n",
    "\n",
    "with open('floats.bin', 'rb') as fp: # read 10 million array values from binary\n",
    "    floats2.fromfile(fp, 10**7)\n",
    "\n",
    "print('last float in array (after retrieval from disk)', floats2[-1]) # print last array value\n",
    "\n",
    "print(floats2 == floats) # validate array values are the same\n",
    "\n",
    "# alternative to tofile and fromfile is pickle (pickle.dump), which can handle almost all built in type not just floats/doubles\n",
    "# python 3.4 does not have in-place sort like list.sort(), only sorted is available i.e a = array.array(a.typecode, sorted(a)), insorted is possible for inplace sort insert"
   ]
  },
  {
   "cell_type": "code",
   "execution_count": 166,
   "metadata": {},
   "outputs": [
    {
     "name": "stdout",
     "output_type": "stream",
     "text": [
      "a: 5\n",
      "b: -2\n",
      "c: [254, 255, 255, 255, 0, 0, 1, 0, 2, 0]\n",
      "d: array('h', [-2, -1, 1024, 1, 2])\n"
     ]
    }
   ],
   "source": [
    "# Memory Views\n",
    "# built-in memoryview class is a shared-memory sequence type that lets you handle slices of arrays without copying bytes\n",
    "# memoryview.cast returns yet another memory view object, always sharing the same memory\n",
    "\n",
    "# Example 2-21. Changing the value of an array item by poking one of its bytes\n",
    "\n",
    "from array import array\n",
    "\n",
    "numbers = array('h', [-2, -1, 0, 1, 2])\n",
    "\n",
    "memv = memoryview(numbers) # build memory view from array\n",
    "\n",
    "print('a:', len(memv)) # memory view sees 5 items in array\n",
    "\n",
    "print('b:', memv[0])\n",
    "\n",
    "memv_oct = memv.cast('B') # Create memv_oct by casting the elements of memv to typecode 'B'\n",
    "\n",
    "print('c:', memv_oct.tolist()) # Export elements of memv_oct as a list, for inspection\n",
    "\n",
    "memv_oct[5] = 4 # assign new value 4 to offset 5\n",
    "\n",
    "print('d:', numbers) # Note change to numbers: a 4 in the most significant byte of a 2-byte unsigned integer is 1024"
   ]
  },
  {
   "cell_type": "code",
   "execution_count": 173,
   "metadata": {},
   "outputs": [
    {
     "name": "stdout",
     "output_type": "stream",
     "text": [
      "a: [ 0  1  2  3  4  5  6  7  8  9 10 11]\n",
      "b: <class 'numpy.ndarray'>\n",
      "c: (12,)\n",
      "\n",
      "c: [[ 0  1  2  3]\n",
      " [ 4  5  6  7]\n",
      " [ 8  9 10 11]]\n",
      "\n",
      "d: [ 8  9 10 11]\n",
      "e: 9\n",
      "f: [1 5 9]\n"
     ]
    },
    {
     "data": {
      "text/plain": [
       "array([[ 0,  4,  8],\n",
       "       [ 1,  5,  9],\n",
       "       [ 2,  6, 10],\n",
       "       [ 3,  7, 11]])"
      ]
     },
     "execution_count": 173,
     "metadata": {},
     "output_type": "execute_result"
    }
   ],
   "source": [
    "# NumPy and SciPy for advanced array and matrix operations\n",
    "\n",
    "import numpy\n",
    "\n",
    "a = numpy.arange(12) # build numpy array with integers 0-11\n",
    "print('a:', a) \n",
    "\n",
    "print('b:', type(a)) # see its a type ndarray\n",
    "\n",
    "print('c:', a.shape) # inspect 1D array with 12 elements\n",
    "\n",
    "a.shape = 3, 4 # change shape of array adding a dimention \n",
    "\n",
    "print()\n",
    "print('c:', a) # view result of shape change\n",
    "print()\n",
    "\n",
    "print('d:', a[2]) # get row 2 \n",
    "print('e:', a[2, 1]) # get element at 2, 1\n",
    "\n",
    "print('f:', a[:, 1]) # get column at index 1\n",
    "\n",
    "a.transpose() # create new array by transposing (swap columns with rows)"
   ]
  },
  {
   "cell_type": "code",
   "execution_count": 176,
   "metadata": {},
   "outputs": [
    {
     "name": "stdout",
     "output_type": "stream",
     "text": [
      "deque([0, 1, 2, 3, 4, 5, 6, 7, 8, 9], maxlen=10)\n",
      "deque([7, 8, 9, 0, 1, 2, 3, 4, 5, 6], maxlen=10)\n",
      "deque([1, 2, 3, 4, 5, 6, 7, 8, 9, 0], maxlen=10)\n",
      "deque([-1, 1, 2, 3, 4, 5, 6, 7, 8, 9], maxlen=10)\n",
      "deque([3, 4, 5, 6, 7, 8, 9, 11, 22, 33], maxlen=10)\n",
      "deque([40, 30, 20, 10, 3, 4, 5, 6, 7, 8], maxlen=10)\n"
     ]
    }
   ],
   "source": [
    "# Deques and Other Queues\n",
    "\n",
    "# The .append and .pop methods make a list usable as a stack or a queue (if you\n",
    "# use .append and .pop(0), you get FIFO behavior). But inserting and removing from\n",
    "# the left of a list (the 0-index end) is costly because the entire list must be shifted\n",
    "\n",
    "# The class collections.deque is a thread-safe double-ended queue designed for fast\n",
    "# inserting and removing from both ends. It is also the way to go if you need to keep a\n",
    "# list of “last seen items” or something like that, because a deque can be bounded—i.e.,\n",
    "# created with a maximum length—and then, when it is full, it discards items from the\n",
    "# opposite end when you append new ones\n",
    "\n",
    "from collections import deque\n",
    "\n",
    "dq = deque(range(10), maxlen=10)\n",
    "print(dq)\n",
    "\n",
    "dq.rotate(3)\n",
    "print(dq)\n",
    "\n",
    "dq.rotate(-4)\n",
    "print(dq)\n",
    "\n",
    "dq.appendleft(-1)\n",
    "print(dq)\n",
    "\n",
    "dq.extend([11, 22, 33])\n",
    "print(dq)\n",
    "\n",
    "dq.extendleft([10, 20, 30, 40])\n",
    "print(dq)"
   ]
  },
  {
   "cell_type": "markdown",
   "metadata": {},
   "source": [
    "### dequeue\n",
    "The class collections.deque is a thread-safe double-ended queue designed for fast\n",
    "inserting and removing from both ends. It is also the way to go if you need to keep a\n",
    "list of “last seen items” or something like that, because a deque can be bounded—i.e.,\n",
    "created with a maximum length—and then, when it is full, it discards items from the\n",
    "opposite end when you append new ones\n",
    "\n",
    "### queue\n",
    "This provides the synchronized (i.e., thread-safe) classes Queue, LifoQueue, and\n",
    "PriorityQueue. These are used for safe communication between threads. All\n",
    "three classes can be bounded by providing a maxsize argument greater than 0 to\n",
    "the constructor. However, they don’t discard items to make room as deque does.\n",
    "Instead, when the queue is full the insertion of a new item blocks—i.e., it waits\n",
    "until some other thread makes room by taking an item from the queue, which is\n",
    "useful to throttle the number of live threads.\n",
    "\n",
    "### multiprocessing\n",
    "Implements its own bounded Queue, very similar to queue.Queue but designed\n",
    "for interprocess communication. A specialized multiprocessing.Joinable\n",
    "Queue is also available for easier task management.\n",
    "\n",
    "### asyncio\n",
    "Newly added to Python 3.4, asyncio provides Queue, LifoQueue, PriorityQueue,\n",
    "and JoinableQueue with APIs inspired by the classes contained in the queue and\n",
    "multiprocessing modules, but adapted for managing tasks in asynchronous\n",
    "programming.\n",
    "\n",
    "### heapq\n",
    "In contrast to the previous three modules, heapq does not implement a queue\n",
    "class, but provides functions like heappush and heappop that let you use a muta‐\n",
    "ble sequence as a heap queue or priority queue."
   ]
  }
 ],
 "metadata": {
  "kernelspec": {
   "display_name": "Python 3",
   "language": "python",
   "name": "python3"
  },
  "language_info": {
   "codemirror_mode": {
    "name": "ipython",
    "version": 3
   },
   "file_extension": ".py",
   "mimetype": "text/x-python",
   "name": "python",
   "nbconvert_exporter": "python",
   "pygments_lexer": "ipython3",
   "version": "3.6.5"
  }
 },
 "nbformat": 4,
 "nbformat_minor": 2
}
