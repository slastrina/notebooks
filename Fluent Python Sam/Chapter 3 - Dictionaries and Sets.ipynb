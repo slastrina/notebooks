{
 "cells": [
  {
   "cell_type": "markdown",
   "metadata": {},
   "source": [
    "# What is Hashable"
   ]
  },
  {
   "cell_type": "code",
   "execution_count": 9,
   "metadata": {},
   "outputs": [
    {
     "name": "stdout",
     "output_type": "stream",
     "text": [
      "True\n",
      "['__abstractmethods__', '__class__', '__contains__', '__delattr__', '__dir__', '__doc__', '__eq__', '__format__', '__ge__', '__getattribute__', '__getitem__', '__gt__', '__hash__', '__init__', '__init_subclass__', '__iter__', '__le__', '__len__', '__lt__', '__module__', '__ne__', '__new__', '__reduce__', '__reduce_ex__', '__repr__', '__reversed__', '__setattr__', '__sizeof__', '__slots__', '__str__', '__subclasshook__', '_abc_cache', '_abc_negative_cache', '_abc_negative_cache_version', '_abc_registry', 'get', 'items', 'keys', 'values']\n"
     ]
    }
   ],
   "source": [
    "# An object is hashable if it has a hash value which never changes during its lifetime (it\n",
    "# needs a __hash__() method), and can be compared to other objects (it needs an\n",
    "# __eq__() method). Hashable objects which compare equal must have the same hash value. […]\n",
    "\n",
    "# Base immutable types (str, bytes, numeric types) are all hashable, a frozen set is hashable because its elements are all hashable\n",
    "# a tuple is hashable if all elements in tuple are hashable"
   ]
  },
  {
   "cell_type": "code",
   "execution_count": 20,
   "metadata": {},
   "outputs": [
    {
     "name": "stdout",
     "output_type": "stream",
     "text": [
      "a 8027212646858338501\n",
      "b 985328935373711578\n"
     ]
    },
    {
     "ename": "TypeError",
     "evalue": "unhashable type: 'list'",
     "output_type": "error",
     "traceback": [
      "\u001b[0;31m---------------------------------------------------------------------------\u001b[0m",
      "\u001b[0;31mTypeError\u001b[0m                                 Traceback (most recent call last)",
      "\u001b[0;32m<ipython-input-20-5f344e44a0d4>\u001b[0m in \u001b[0;36m<module>\u001b[0;34m()\u001b[0m\n\u001b[1;32m      6\u001b[0m \u001b[0;34m\u001b[0m\u001b[0m\n\u001b[1;32m      7\u001b[0m \u001b[0mtl\u001b[0m \u001b[0;34m=\u001b[0m \u001b[0;34m(\u001b[0m\u001b[0;36m1\u001b[0m\u001b[0;34m,\u001b[0m \u001b[0;36m2\u001b[0m\u001b[0;34m,\u001b[0m \u001b[0;34m[\u001b[0m\u001b[0;36m30\u001b[0m\u001b[0;34m,\u001b[0m \u001b[0;36m40\u001b[0m\u001b[0;34m]\u001b[0m\u001b[0;34m)\u001b[0m \u001b[0;31m# the list in this tuple is mutable, this tuple cannot be hashed\u001b[0m\u001b[0;34m\u001b[0m\u001b[0m\n\u001b[0;32m----> 8\u001b[0;31m \u001b[0mprint\u001b[0m\u001b[0;34m(\u001b[0m\u001b[0;34m'c'\u001b[0m\u001b[0;34m,\u001b[0m \u001b[0mhash\u001b[0m\u001b[0;34m(\u001b[0m\u001b[0mtl\u001b[0m\u001b[0;34m)\u001b[0m\u001b[0;34m)\u001b[0m\u001b[0;34m\u001b[0m\u001b[0m\n\u001b[0m",
      "\u001b[0;31mTypeError\u001b[0m: unhashable type: 'list'"
     ]
    }
   ],
   "source": [
    "tt = (1, 2, (30, 40)) # all items in this tuple can be hashed including the tuple within\n",
    "print('a', hash(tt))\n",
    "\n",
    "tf = (1, 2, frozenset([30, 40])) # all items in this tuple can be hashed including the frozenset within\n",
    "print('b', hash(tf))\n",
    "\n",
    "tl = (1, 2, [30, 40]) # the list in this tuple is mutable, this tuple cannot be hashed\n",
    "print('c', hash(tl))"
   ]
  },
  {
   "cell_type": "code",
   "execution_count": 21,
   "metadata": {},
   "outputs": [
    {
     "data": {
      "text/plain": [
       "True"
      ]
     },
     "execution_count": 21,
     "metadata": {},
     "output_type": "execute_result"
    }
   ],
   "source": [
    "# Different ways to declare a dict\n",
    "\n",
    "a = dict(one=1, two=2, three=3)\n",
    "b = {'one': 1, 'two': 2, 'three': 3}\n",
    "c = dict(zip(['one', 'two', 'three'], [1, 2, 3]))\n",
    "d = dict([('two', 2), ('one', 1), ('three', 3)])\n",
    "e = dict({'three': 3, 'one': 1, 'two': 2})\n",
    "a == b == c == d == e"
   ]
  },
  {
   "cell_type": "markdown",
   "metadata": {},
   "source": [
    "### Dict Comprehensions"
   ]
  },
  {
   "cell_type": "code",
   "execution_count": 23,
   "metadata": {},
   "outputs": [
    {
     "name": "stdout",
     "output_type": "stream",
     "text": [
      "{'China': 86, 'India': 91, 'United States': 1, 'Indonesia': 62, 'Brazil': 55, 'Pakistan': 92, 'Bangladesh': 880, 'Nigeria': 234, 'Russia': 7, 'Japan': 81}\n",
      "{1: 'UNITED STATES', 62: 'INDONESIA', 55: 'BRAZIL', 7: 'RUSSIA'}\n"
     ]
    }
   ],
   "source": [
    "DIAL_CODES = [\n",
    "    (86, 'China'),\n",
    "    (91, 'India'),\n",
    "    (1, 'United States'),\n",
    "    (62, 'Indonesia'),\n",
    "    (55, 'Brazil'),\n",
    "    (92, 'Pakistan'),\n",
    "    (880, 'Bangladesh'),\n",
    "    (234, 'Nigeria'),\n",
    "    (7, 'Russia'),\n",
    "    (81, 'Japan'),\n",
    "]\n",
    "country_code = {country: code for code, country in DIAL_CODES}\n",
    "print(country_code)\n",
    "country_code_upper = {code: country.upper() for country, code in country_code.items() if code < 66}\n",
    "print(country_code_upper)"
   ]
  },
  {
   "cell_type": "code",
   "execution_count": 25,
   "metadata": {},
   "outputs": [
    {
     "ename": "NameError",
     "evalue": "name 'key' is not defined",
     "output_type": "error",
     "traceback": [
      "\u001b[0;31m---------------------------------------------------------------------------\u001b[0m",
      "\u001b[0;31mNameError\u001b[0m                                 Traceback (most recent call last)",
      "\u001b[0;32m<ipython-input-25-524f989a0d9e>\u001b[0m in \u001b[0;36m<module>\u001b[0;34m()\u001b[0m\n\u001b[1;32m      1\u001b[0m \u001b[0;31m# Handling Missing Keys with setdefault\u001b[0m\u001b[0;34m\u001b[0m\u001b[0;34m\u001b[0m\u001b[0m\n\u001b[1;32m      2\u001b[0m \u001b[0;34m\u001b[0m\u001b[0m\n\u001b[0;32m----> 3\u001b[0;31m \u001b[0mmy_dict\u001b[0m\u001b[0;34m.\u001b[0m\u001b[0msetdefault\u001b[0m\u001b[0;34m(\u001b[0m\u001b[0mkey\u001b[0m\u001b[0;34m,\u001b[0m \u001b[0;34m[\u001b[0m\u001b[0;34m]\u001b[0m\u001b[0;34m)\u001b[0m\u001b[0;34m.\u001b[0m\u001b[0mappend\u001b[0m\u001b[0;34m(\u001b[0m\u001b[0mnew_value\u001b[0m\u001b[0;34m)\u001b[0m \u001b[0;31m# do the lookup for key in my_dict, if it doesnt exist create a list and append to it, store the value at that key\u001b[0m\u001b[0;34m\u001b[0m\u001b[0m\n\u001b[0m\u001b[1;32m      4\u001b[0m \u001b[0;34m\u001b[0m\u001b[0m\n\u001b[1;32m      5\u001b[0m \u001b[0;31m# …is the same as running…\u001b[0m\u001b[0;34m\u001b[0m\u001b[0;34m\u001b[0m\u001b[0m\n",
      "\u001b[0;31mNameError\u001b[0m: name 'key' is not defined"
     ]
    }
   ],
   "source": [
    "# Handling Missing Keys with setdefault\n",
    "\n",
    "my_dict.setdefault(key, []).append(new_value) # do the lookup for key in my_dict, if it doesnt exist create a list and append to it, store the value at that key\n",
    "\n",
    "# …is the same as running…\n",
    "\n",
    "if key not in my_dict: # check key exists\n",
    "    my_dict[key] = [] # create a list at that key if missing\n",
    "my_dict[key].append(new_value) # append to that list"
   ]
  },
  {
   "cell_type": "code",
   "execution_count": 28,
   "metadata": {},
   "outputs": [
    {
     "name": "stdout",
     "output_type": "stream",
     "text": [
      "defaultdict(<class 'list'>, {})\n",
      "[]\n",
      "defaultdict(<class 'list'>, {'test': []})\n"
     ]
    }
   ],
   "source": [
    "# defaultdict: Another Take on Missing Keys\n",
    "\n",
    "# when instantiating a defaultdict, you provide a callable that is\n",
    "# used to produce a default value whenever __getitem__ is passed a nonexistent key argument.\n",
    "\n",
    "# For example, given an empty defaultdict created as dd = defaultdict(list), if\n",
    "# 'new-key' is not in dd, the expression dd['new-key'] does the following steps:\n",
    "# 1. Calls list() to create a new list.\n",
    "# 2. Inserts the list into dd using 'new-key' as key.\n",
    "# 3. Returns a reference to that list.\n",
    "\n",
    "# The callable that produces the default values is held in an instance attribute called default_factory\n",
    "\n",
    "import collections\n",
    "\n",
    "index = collections.defaultdict(list)\n",
    "\n",
    "print(index) # Print empty \n",
    "\n",
    "print(index['test'])\n",
    "\n",
    "print(index)"
   ]
  },
  {
   "cell_type": "code",
   "execution_count": null,
   "metadata": {},
   "outputs": [],
   "source": [
    "# The __missing__ Method\n",
    "\n",
    "# Underlying the way mappings deal with missing keys is the aptly named __missing__\n",
    "# method. This method is not defined in the base dict class, but dict is aware of it: if\n",
    "# you subclass dict and provide a __missing__ method, the standard dict.__getitem__ will call it \n",
    "# whenever a key is not found, instead of raising KeyError"
   ]
  },
  {
   "cell_type": "code",
   "execution_count": 31,
   "metadata": {},
   "outputs": [
    {
     "name": "stdout",
     "output_type": "stream",
     "text": [
      "two\n",
      "four\n"
     ]
    },
    {
     "ename": "KeyError",
     "evalue": "'1'",
     "output_type": "error",
     "traceback": [
      "\u001b[0;31m---------------------------------------------------------------------------\u001b[0m",
      "\u001b[0;31mKeyError\u001b[0m                                  Traceback (most recent call last)",
      "\u001b[0;32m<ipython-input-31-7d346c2d86a7>\u001b[0m in \u001b[0;36m<module>\u001b[0;34m()\u001b[0m\n\u001b[1;32m     22\u001b[0m \u001b[0mprint\u001b[0m\u001b[0;34m(\u001b[0m\u001b[0md\u001b[0m\u001b[0;34m[\u001b[0m\u001b[0;34m'2'\u001b[0m\u001b[0;34m]\u001b[0m\u001b[0;34m)\u001b[0m\u001b[0;34m\u001b[0m\u001b[0m\n\u001b[1;32m     23\u001b[0m \u001b[0mprint\u001b[0m\u001b[0;34m(\u001b[0m\u001b[0md\u001b[0m\u001b[0;34m[\u001b[0m\u001b[0;36m4\u001b[0m\u001b[0;34m]\u001b[0m\u001b[0;34m)\u001b[0m\u001b[0;34m\u001b[0m\u001b[0m\n\u001b[0;32m---> 24\u001b[0;31m \u001b[0mprint\u001b[0m\u001b[0;34m(\u001b[0m\u001b[0md\u001b[0m\u001b[0;34m[\u001b[0m\u001b[0;36m1\u001b[0m\u001b[0;34m]\u001b[0m\u001b[0;34m)\u001b[0m\u001b[0;34m\u001b[0m\u001b[0m\n\u001b[0m",
      "\u001b[0;32m<ipython-input-31-7d346c2d86a7>\u001b[0m in \u001b[0;36m__missing__\u001b[0;34m(self, key)\u001b[0m\n\u001b[1;32m      7\u001b[0m         \u001b[0;32mif\u001b[0m \u001b[0misinstance\u001b[0m\u001b[0;34m(\u001b[0m\u001b[0mkey\u001b[0m\u001b[0;34m,\u001b[0m \u001b[0mstr\u001b[0m\u001b[0;34m)\u001b[0m\u001b[0;34m:\u001b[0m  \u001b[0;31m# <2>\u001b[0m\u001b[0;34m\u001b[0m\u001b[0m\n\u001b[1;32m      8\u001b[0m             \u001b[0;32mraise\u001b[0m \u001b[0mKeyError\u001b[0m\u001b[0;34m(\u001b[0m\u001b[0mkey\u001b[0m\u001b[0;34m)\u001b[0m\u001b[0;34m\u001b[0m\u001b[0m\n\u001b[0;32m----> 9\u001b[0;31m         \u001b[0;32mreturn\u001b[0m \u001b[0mself\u001b[0m\u001b[0;34m[\u001b[0m\u001b[0mstr\u001b[0m\u001b[0;34m(\u001b[0m\u001b[0mkey\u001b[0m\u001b[0;34m)\u001b[0m\u001b[0;34m]\u001b[0m  \u001b[0;31m# <3>\u001b[0m\u001b[0;34m\u001b[0m\u001b[0m\n\u001b[0m\u001b[1;32m     10\u001b[0m \u001b[0;34m\u001b[0m\u001b[0m\n\u001b[1;32m     11\u001b[0m     \u001b[0;32mdef\u001b[0m \u001b[0mget\u001b[0m\u001b[0;34m(\u001b[0m\u001b[0mself\u001b[0m\u001b[0;34m,\u001b[0m \u001b[0mkey\u001b[0m\u001b[0;34m,\u001b[0m \u001b[0mdefault\u001b[0m\u001b[0;34m=\u001b[0m\u001b[0;32mNone\u001b[0m\u001b[0;34m)\u001b[0m\u001b[0;34m:\u001b[0m\u001b[0;34m\u001b[0m\u001b[0m\n",
      "\u001b[0;32m<ipython-input-31-7d346c2d86a7>\u001b[0m in \u001b[0;36m__missing__\u001b[0;34m(self, key)\u001b[0m\n\u001b[1;32m      6\u001b[0m     \u001b[0;32mdef\u001b[0m \u001b[0m__missing__\u001b[0m\u001b[0;34m(\u001b[0m\u001b[0mself\u001b[0m\u001b[0;34m,\u001b[0m \u001b[0mkey\u001b[0m\u001b[0;34m)\u001b[0m\u001b[0;34m:\u001b[0m\u001b[0;34m\u001b[0m\u001b[0m\n\u001b[1;32m      7\u001b[0m         \u001b[0;32mif\u001b[0m \u001b[0misinstance\u001b[0m\u001b[0;34m(\u001b[0m\u001b[0mkey\u001b[0m\u001b[0;34m,\u001b[0m \u001b[0mstr\u001b[0m\u001b[0;34m)\u001b[0m\u001b[0;34m:\u001b[0m  \u001b[0;31m# <2>\u001b[0m\u001b[0;34m\u001b[0m\u001b[0m\n\u001b[0;32m----> 8\u001b[0;31m             \u001b[0;32mraise\u001b[0m \u001b[0mKeyError\u001b[0m\u001b[0;34m(\u001b[0m\u001b[0mkey\u001b[0m\u001b[0;34m)\u001b[0m\u001b[0;34m\u001b[0m\u001b[0m\n\u001b[0m\u001b[1;32m      9\u001b[0m         \u001b[0;32mreturn\u001b[0m \u001b[0mself\u001b[0m\u001b[0;34m[\u001b[0m\u001b[0mstr\u001b[0m\u001b[0;34m(\u001b[0m\u001b[0mkey\u001b[0m\u001b[0;34m)\u001b[0m\u001b[0;34m]\u001b[0m  \u001b[0;31m# <3>\u001b[0m\u001b[0;34m\u001b[0m\u001b[0m\n\u001b[1;32m     10\u001b[0m \u001b[0;34m\u001b[0m\u001b[0m\n",
      "\u001b[0;31mKeyError\u001b[0m: '1'"
     ]
    }
   ],
   "source": [
    "# Example 3-6. When searching for a nonstring key, StrKeyDict0 converts it to str when it is not found\n",
    "\n",
    "# BEGIN STRKEYDICT0\n",
    "class StrKeyDict0(dict):  # <1>\n",
    "\n",
    "    def __missing__(self, key):\n",
    "        if isinstance(key, str):  # <2>\n",
    "            raise KeyError(key)\n",
    "        return self[str(key)]  # <3>\n",
    "\n",
    "    def get(self, key, default=None):\n",
    "        try:\n",
    "            return self[key]  # <4>\n",
    "        except KeyError:\n",
    "            return default  # <5>\n",
    "\n",
    "    def __contains__(self, key):\n",
    "        return key in self.keys() or str(key) in self.keys()  # <6>\n",
    "\n",
    "# Tests for item retrieval using `d[key]` notation::\n",
    "d = StrKeyDict0([('2', 'two'), ('4', 'four')])\n",
    "print(d['2'])\n",
    "print(d[4])\n",
    "print(d[1])"
   ]
  },
  {
   "cell_type": "code",
   "execution_count": 32,
   "metadata": {},
   "outputs": [
    {
     "name": "stdout",
     "output_type": "stream",
     "text": [
      "two\n",
      "four\n",
      "N/A\n"
     ]
    }
   ],
   "source": [
    "# Tests for item retrieval using `d.get(key)` notation::\n",
    "print(d.get('2'))\n",
    "print(d.get(4))\n",
    "print(d.get(1, 'N/A')) # default param 'N/A' if key not found in dict"
   ]
  },
  {
   "cell_type": "code",
   "execution_count": 33,
   "metadata": {},
   "outputs": [
    {
     "name": "stdout",
     "output_type": "stream",
     "text": [
      "True\n",
      "False\n"
     ]
    }
   ],
   "source": [
    "# Tests for the `in` operator::\n",
    "print(2 in d)\n",
    "print(1 in d)"
   ]
  },
  {
   "cell_type": "markdown",
   "metadata": {},
   "source": [
    "# Variations of DICT"
   ]
  },
  {
   "cell_type": "markdown",
   "metadata": {},
   "source": [
    "#### collections.OrderedDict\n",
    "Maintains keys in insertion order, allowing iteration over items in a predictable\n",
    "order. The popitem method of an OrderedDict pops the last item by default, but\n",
    "if called as my_odict.popitem(last=False), it pops the first item added.\n",
    "\n",
    "#### collections.ChainMap\n",
    "Holds a list of mappings that can be searched as one. The lookup is performed on\n",
    "each mapping in order, and succeeds if the key is found in any of them. This is\n",
    "useful to interpreters for languages with nested scopes, where each mapping rep‐\n",
    "resents a scope context. The “ChainMap objects” section of the collections\n",
    "docs has several examples of ChainMap usage, including this snippet inspired by\n",
    "the basic rules of variable lookup in Python:\n",
    "\n",
    "```python\n",
    "import builtins\n",
    "pylookup = ChainMap(locals(), globals(), vars(builtins))\n",
    "```\n",
    "\n",
    "#### collections.Counter\n",
    "A mapping that holds an integer count for each key. Updating an existing key\n",
    "adds to its count. This can be used to count instances of hashable objects (the\n",
    "keys) or as a multiset—a set that can hold several occurrences of each element.\n",
    "Counter implements the + and - operators to combine tallies, and other useful\n",
    "methods such as most_common([n]), which returns an ordered list of tuples with\n",
    "\n",
    "#### collections.UserDict\n",
    "A pure Python implementation of a mapping that works like a standard dict,\n",
    "While OrderedDict, ChainMap, and Counter come ready to use, UserDict is designed to be subclassed\n",
    "\n",
    "**Note** that UserDict does not inherit from dict, but has an internal dict instance,\n",
    "called data, which holds the actual items. This avoids undesired recursion when cod‐\n",
    "ing special methods like ```__setitem__```, and simplifies the coding of ```__contains__```"
   ]
  },
  {
   "cell_type": "code",
   "execution_count": 34,
   "metadata": {},
   "outputs": [
    {
     "name": "stdout",
     "output_type": "stream",
     "text": [
      "Counter({'a': 5, 'b': 2, 'r': 2, 'c': 1, 'd': 1})\n",
      "Counter({'a': 10, 'z': 3, 'b': 2, 'r': 2, 'c': 1, 'd': 1})\n",
      "[('a', 10), ('z', 3)]\n"
     ]
    }
   ],
   "source": [
    "# Example counter to count letters in words\n",
    "\n",
    "ct = collections.Counter('abracadabra')\n",
    "print(ct)\n",
    "ct.update('aaaaazzz')\n",
    "print(ct)\n",
    "print(ct.most_common(2))"
   ]
  },
  {
   "cell_type": "code",
   "execution_count": 37,
   "metadata": {},
   "outputs": [],
   "source": [
    "# Subclassing UserDict\n",
    "\n",
    "# Example 3-8. StrKeyDict always converts non-string keys to str—on insertion, update, and lookup\n",
    "\n",
    "import collections\n",
    "\n",
    "class StrKeyDict(collections.UserDict): # StrKeyDict extends UserDict\n",
    "    def __missing__(self, key):\n",
    "        \"\"\"\n",
    "            __missing__ is exactly as in StrKeyDict0\n",
    "        \"\"\"\n",
    "        if isinstance(key, str):\n",
    "            raise KeyError(key)\n",
    "        return self[str(key)]\n",
    "\n",
    "    def __contains__(self, key):\n",
    "        \"\"\"\n",
    "            __contains__ is simpler: we can assume all stored keys are str and we can check\n",
    "            on self.data instead of invoking self.keys() as we did in StrKeyDict0\n",
    "        \"\"\"\n",
    "        return str(key) in self.data\n",
    "    \n",
    "    def __setitem__(self, key, item):\n",
    "        \"\"\"\n",
    "            __setitem__ converts any key to a str. This method is easier to overwrite when\n",
    "            we can delegate to the self.data attribute\n",
    "        \"\"\"\n",
    "        self.data[str(key)] = item"
   ]
  },
  {
   "cell_type": "markdown",
   "metadata": {},
   "source": [
    "### Immutable Mappings"
   ]
  },
  {
   "cell_type": "code",
   "execution_count": 47,
   "metadata": {},
   "outputs": [
    {
     "name": "stdout",
     "output_type": "stream",
     "text": [
      "{1: 'A'}\n",
      "A \n",
      "\n",
      "'mappingproxy' object does not support item assignment \n",
      "\n",
      "{1: 'A', 2: 'B'}\n",
      "B\n"
     ]
    }
   ],
   "source": [
    "# The mapping types provided by the standard library are all mutable, \n",
    "# if we need an immutable type we can use the MappingProxy type\n",
    "\n",
    "# Since Python 3.3, the types module provides a wrapper class called MappingProxy\n",
    "# Type, which, given a mapping, returns a mappingproxy instance that is a read-only\n",
    "# but dynamic view of the original mapping. This means that updates to the original\n",
    "# mapping can be seen in the mappingproxy, but changes cannot be made through it\n",
    "\n",
    "from types import MappingProxyType\n",
    "\n",
    "d = {1: 'A'} # Create a regular dict object that is mutable\n",
    "\n",
    "d_proxy = MappingProxyType(d) # create a MappingProxy of dictionary d \n",
    "\n",
    "print(d_proxy) # print contents of mapping, it shows contents of dict d\n",
    "\n",
    "print(d_proxy[1], '\\n') # print value of key 1 of proxy mapping\n",
    "\n",
    "try:\n",
    "    d_proxy[2] = 'x' # attempt to modify proxymapping value\n",
    "except Exception as e:\n",
    "    print(e, '\\n') # Throw exception that object doesnt support item assignment\n",
    "    \n",
    "d[2] = 'B' # demonstrate that origional dict can still be modified\n",
    "\n",
    "print(d_proxy) # d_proxy is dynamic: any change in d is reflected\n",
    "print(d_proxy[2]) "
   ]
  },
  {
   "cell_type": "markdown",
   "metadata": {},
   "source": [
    "### Set Theory"
   ]
  },
  {
   "cell_type": "code",
   "execution_count": 50,
   "metadata": {},
   "outputs": [
    {
     "name": "stdout",
     "output_type": "stream",
     "text": [
      "{'eggs', 'spam'}\n",
      "['eggs', 'spam']\n"
     ]
    }
   ],
   "source": [
    "# A set is a collection of unique objects. A basic use case is removing duplication:\n",
    "l = ['spam', 'spam', 'eggs', 'spam']\n",
    "print(set(l))\n",
    "print(list(set(l)))\n",
    "\n",
    "# Set elements must be hashable. The set type is not hashable, but frozenset is, so you can have frozenset elements inside a set"
   ]
  },
  {
   "cell_type": "code",
   "execution_count": null,
   "metadata": {},
   "outputs": [],
   "source": [
    "# the set types implement the essential set operations as infix operators, so, \n",
    "# given two sets a and b, a | b returns their union, a & b computes the intersection, \n",
    "# and a - b the difference"
   ]
  },
  {
   "cell_type": "markdown",
   "metadata": {},
   "source": [
    "### Set Literals"
   ]
  },
  {
   "cell_type": "code",
   "execution_count": 56,
   "metadata": {},
   "outputs": [
    {
     "name": "stdout",
     "output_type": "stream",
     "text": [
      "<class 'set'>\n",
      "{1}\n",
      "set()\n"
     ]
    }
   ],
   "source": [
    "s = {1}\n",
    "print(type(s))\n",
    "print(s)\n",
    "\n",
    "s.pop()\n",
    "print(s)\n",
    "\n",
    "# Literal set syntax like {1, 2, 3} is both faster and more readable than calling the\n",
    "# constructor (e.g., set([1, 2, 3])). The latter form is slower because, to evaluate it,\n",
    "# Python has to look up the set name to fetch the constructor, then build a list, and\n",
    "# finally pass it to the constructor. In contrast, to process a literal like {1, 2, 3},\n",
    "# Python runs a specialized BUILD_SET bytecode"
   ]
  },
  {
   "cell_type": "code",
   "execution_count": 64,
   "metadata": {},
   "outputs": [
    {
     "name": "stdout",
     "output_type": "stream",
     "text": [
      "  1           0 LOAD_CONST               0 (1)\n",
      "              2 BUILD_SET                1\n",
      "              4 RETURN_VALUE\n",
      "\n",
      "  1           0 LOAD_NAME                0 (set)\n",
      "              2 LOAD_CONST               0 (1)\n",
      "              4 BUILD_LIST               1\n",
      "              6 CALL_FUNCTION            1\n",
      "              8 RETURN_VALUE\n",
      "\n",
      "  1           0 LOAD_NAME                0 (frozenset)\n",
      "              2 LOAD_NAME                1 (range)\n",
      "              4 LOAD_CONST               0 (10)\n",
      "              6 CALL_FUNCTION            1\n",
      "              8 CALL_FUNCTION            1\n",
      "             10 RETURN_VALUE\n"
     ]
    }
   ],
   "source": [
    "from dis import dis\n",
    "dis('{1}') # building a set without the set method name results in 3 bytecode expressions vs 5 for the second example\n",
    "print()\n",
    "dis('set([1])')\n",
    "print()\n",
    "dis('frozenset(range(10))')"
   ]
  },
  {
   "cell_type": "code",
   "execution_count": 66,
   "metadata": {},
   "outputs": [
    {
     "data": {
      "text/plain": [
       "frozenset({0, 1, 2, 3, 4, 5, 6, 7, 8, 9})"
      ]
     },
     "execution_count": 66,
     "metadata": {},
     "output_type": "execute_result"
    }
   ],
   "source": [
    "frozenset(range(10)) # Immutable set"
   ]
  },
  {
   "cell_type": "markdown",
   "metadata": {},
   "source": [
    "### Set Comprehensions"
   ]
  },
  {
   "cell_type": "code",
   "execution_count": 73,
   "metadata": {},
   "outputs": [
    {
     "data": {
      "text/plain": [
       "{'#',\n",
       " '$',\n",
       " '%',\n",
       " '+',\n",
       " '<',\n",
       " '=',\n",
       " '>',\n",
       " '¢',\n",
       " '£',\n",
       " '¤',\n",
       " '¥',\n",
       " '§',\n",
       " '©',\n",
       " '¬',\n",
       " '®',\n",
       " '°',\n",
       " '±',\n",
       " 'µ',\n",
       " '¶',\n",
       " '×',\n",
       " '÷'}"
      ]
     },
     "execution_count": 73,
     "metadata": {},
     "output_type": "execute_result"
    }
   ],
   "source": [
    "# Import name function from unicodedata to obtain character names\n",
    "from unicodedata import name \n",
    "\n",
    "# Build set of characters with codes from 32 to 255 that have the word 'SIGN' in their names\n",
    "{chr(i) for i in range(32, 256) if 'SIGN' in name(chr(i),'')}"
   ]
  },
  {
   "cell_type": "markdown",
   "metadata": {},
   "source": [
    "# dict and set Under the Hood"
   ]
  },
  {
   "cell_type": "code",
   "execution_count": 75,
   "metadata": {},
   "outputs": [
    {
     "name": "stdout",
     "output_type": "stream",
     "text": [
      "64-bit Python build\n",
      "1        000000000000000000000000000000000000000000000000000000000000001\n",
      "                                                                         != 0\n",
      "1.0      000000000000000000000000000000000000000000000000000000000000001\n",
      "-------------------------------------------------------------------------------\n",
      "1.0      000000000000000000000000000000000000000000000000000000000000001\n",
      "                        !! !   !! !! !!!   ! !!! ! !!   !!!   !          != 21\n",
      "1.0001   000000000000000110100011011011100010111010110001110001000000001\n",
      "-------------------------------------------------------------------------------\n",
      "1.0001   000000000000000110100011011011100010111010110001110001000000001\n",
      "                       ! !!!  ! !! !!  !  !!!  !!!! !  !  !  !!          != 22\n",
      "1.0002   000000000000001101000110110111000101110101100011100010000000001\n",
      "-------------------------------------------------------------------------------\n",
      "1.0002   000000000000001101000110110111000101110101100011100010000000001\n",
      "                      !!!! ! !!  !  ! !! !! !   ! !!! !! !!   !          != 23\n",
      "1.0003   000000000000010011101010010010101000110000010101010011000000001\n",
      "-------------------------------------------------------------------------------\n"
     ]
    }
   ],
   "source": [
    "# Example A-3. hashdiff.py: display the difference of bit paterns from hash values\n",
    "\n",
    "import sys\n",
    "\n",
    "MAX_BITS = len(format(sys.maxsize, 'b'))\n",
    "print('%s-bit Python build' % (MAX_BITS + 1))\n",
    "\n",
    "def hash_diff(o1, o2):\n",
    "    h1 = '{:>0{}b}'.format(hash(o1), MAX_BITS)\n",
    "    h2 = '{:>0{}b}'.format(hash(o2), MAX_BITS)\n",
    "    diff = ''.join('!' if b1 != b2 else ' ' for b1, b2 in zip(h1, h2))\n",
    "    count = '!= {}'.format(diff.count('!'))\n",
    "    width = max(len(repr(o1)), len(repr(o2)), 8)\n",
    "    sep = '-' * (width * 2 + MAX_BITS)\n",
    "    return '{!r:{width}} {}\\n{:{width}} {} {}\\n{!r:{width}} {}\\n{}'.format(\n",
    "        o1, h1, ' ' * width, diff, count, o2, h2, sep, width=width)\n",
    "\n",
    "if __name__ == '__main__':\n",
    "    print(hash_diff(1, 1.0))\n",
    "    print(hash_diff(1.0, 1.0001))\n",
    "    print(hash_diff(1.0001, 1.0002))\n",
    "    print(hash_diff(1.0002, 1.0003))"
   ]
  }
 ],
 "metadata": {
  "kernelspec": {
   "display_name": "Python 3",
   "language": "python",
   "name": "python3"
  },
  "language_info": {
   "codemirror_mode": {
    "name": "ipython",
    "version": 3
   },
   "file_extension": ".py",
   "mimetype": "text/x-python",
   "name": "python",
   "nbconvert_exporter": "python",
   "pygments_lexer": "ipython3",
   "version": "3.6.5"
  }
 },
 "nbformat": 4,
 "nbformat_minor": 2
}
