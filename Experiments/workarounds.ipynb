{
 "cells": [
  {
   "cell_type": "code",
   "execution_count": 39,
   "metadata": {
    "collapsed": true,
    "pycharm": {
     "is_executing": false
    }
   },
   "outputs": [],
   "source": [
    "import os\n",
    "\n",
    "paths = [ # random paths that might appear\n",
    "    'https://somesite.com',\n",
    "    'debug_tool',\n",
    "    r'C:\\\\Program Files\\\\custom\\\\/DEV_UTILS/get_boundary_fm_entity.py'\n",
    "]\n",
    "\n",
    "random_dict = {\n",
    "    'https://somesite.com': {\n",
    "        'location': 'remote-artifactory'\n",
    "    },\n",
    "    'debug_tool': {\n",
    "        'location': 'remote-artifactory'\n",
    "    },\n",
    "}\n",
    "\n",
    "def throw_error(filename):\n",
    "    print(filename)\n",
    "    raise Exception('break here')\n",
    "\n",
    "def test(filename):\n",
    "\n",
    "    if os.path.exists(filename):\n",
    "        pass\n",
    "    else:\n",
    "\n",
    "    try:\n",
    "        if 'remote' in random_dict[filename]['location']:\n",
    "            filename = throw_error(filename)\n",
    "            print('is a remote tool')\n",
    "    except Exception as ex:\n",
    "        print(ex)\n",
    "    \n",
    "    \n",
    "    print(os.path.normpath(filename))"
   ]
  },
  {
   "cell_type": "code",
   "execution_count": 40,
   "outputs": [
    {
     "name": "stdout",
     "text": [
      "https://somesite.com\nbreak here\nhttps:/somesite.com\n"
     ],
     "output_type": "stream"
    }
   ],
   "source": [
    "test(paths[0])"
   ],
   "metadata": {
    "collapsed": false,
    "pycharm": {
     "name": "#%%\n",
     "is_executing": false
    }
   }
  },
  {
   "cell_type": "code",
   "execution_count": 41,
   "outputs": [
    {
     "name": "stdout",
     "text": [
      "debug_tool\nbreak here\ndebug_tool\n"
     ],
     "output_type": "stream"
    }
   ],
   "source": [
    "test(paths[1])"
   ],
   "metadata": {
    "collapsed": false,
    "pycharm": {
     "name": "#%%\n",
     "is_executing": false
    }
   }
  },
  {
   "cell_type": "code",
   "execution_count": 42,
   "outputs": [
    {
     "name": "stdout",
     "text": [
      "'C:\\\\\\\\Program Files\\\\\\\\custom\\\\\\\\/DEV_UTILS/get_boundary_fm_entity.py'\nC:\\\\Program Files\\\\custom\\\\/DEV_UTILS/get_boundary_fm_entity.py\n"
     ],
     "output_type": "stream"
    }
   ],
   "source": [
    "test(paths[2])\n",
    "\n"
   ],
   "metadata": {
    "collapsed": false,
    "pycharm": {
     "name": "#%%\n",
     "is_executing": false
    }
   }
  },
  {
   "cell_type": "code",
   "execution_count": 46,
   "outputs": [
    {
     "traceback": [
      "\u001b[0;31m---------------------------------------------------------------------------\u001b[0m",
      "\u001b[0;31mException\u001b[0m                                 Traceback (most recent call last)",
      "\u001b[0;32m<ipython-input-46-d5a972d5b39c>\u001b[0m in \u001b[0;36m<module>\u001b[0;34m\u001b[0m\n\u001b[0;32m----> 1\u001b[0;31m \u001b[0;32mraise\u001b[0m \u001b[0mException\u001b[0m\u001b[0;34m(\u001b[0m\u001b[0;34m)\u001b[0m\u001b[0;34m\u001b[0m\u001b[0;34m\u001b[0m\u001b[0m\n\u001b[0m\u001b[1;32m      2\u001b[0m \u001b[0;34m\u001b[0m\u001b[0m\n",
      "\u001b[0;31mException\u001b[0m: "
     ],
     "ename": "Exception",
     "evalue": "",
     "output_type": "error"
    }
   ],
   "source": [
    "raise Exception()"
   ],
   "metadata": {
    "collapsed": false,
    "pycharm": {
     "name": "#%%\n",
     "is_executing": false
    }
   }
  },
  {
   "cell_type": "code",
   "execution_count": null,
   "outputs": [],
   "source": [
    "\n"
   ],
   "metadata": {
    "collapsed": false,
    "pycharm": {
     "name": "#%%\n"
    }
   }
  }
 ],
 "metadata": {
  "kernelspec": {
   "display_name": "Python 3",
   "language": "python",
   "name": "python3"
  },
  "language_info": {
   "codemirror_mode": {
    "name": "ipython",
    "version": 2
   },
   "file_extension": ".py",
   "mimetype": "text/x-python",
   "name": "python",
   "nbconvert_exporter": "python",
   "pygments_lexer": "ipython2",
   "version": "2.7.6"
  },
  "pycharm": {
   "stem_cell": {
    "cell_type": "raw",
    "source": [],
    "metadata": {
     "collapsed": false
    }
   }
  }
 },
 "nbformat": 4,
 "nbformat_minor": 0
}