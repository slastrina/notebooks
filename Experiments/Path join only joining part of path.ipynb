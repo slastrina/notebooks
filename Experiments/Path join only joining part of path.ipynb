{
 "cells": [
  {
   "cell_type": "code",
   "execution_count": 1,
   "metadata": {
    "collapsed": false
   },
   "outputs": [
    {
     "name": "stdout",
     "output_type": "stream",
     "text": [
      "Broken Join:  /test/test/test/\n",
      "Fixed Join:  C:\\Program Files\\Josh/test/test/test/\n",
      "Fixed and Joined:  C:/Program Files/Josh/test/test/test\n"
     ]
    }
   ],
   "source": [
    "import os\n",
    "\n",
    "path1 = r\"C:\\Program Files\\random\"\n",
    "\n",
    "path2 = \"/test/test/test/\"\n",
    "\n",
    "# This will print:\n",
    "# /test/test/test/\n",
    "# This is because path2 contains a leading '/'\n",
    "print \"Broken Join: \", os.path.join(path1,path2)\n",
    "\n",
    "# If we remove the leading \"/\" the join will work\n",
    "# C:\\Program Files\\Josh/test/test/test/\n",
    "print \"Fixed Join: \", os.path.join(path1,path2[1:])\n",
    "\n",
    "# Now that the join is fixed you may notice the mixture of \"/\" and \"\\\"\n",
    "# This should be resolved and your code should be as platform independant as possible\n",
    "# os.path.sep returns the os specific path seperator (either / or \\\\)\n",
    "def fixPath(path):\n",
    "    if os.path.sep is \"/\":\n",
    "        return os.path.normpath(path.replace(\"\\\\\", os.path.sep))\n",
    "    else:\n",
    "        return os.path.normpath(path.replace(\"/\", os.path.sep))\n",
    "    \n",
    "print \"Fixed and Joined: \", fixPath(os.path.join(path1,path2[1:]))"
   ]
  },
  {
   "cell_type": "code",
   "execution_count": null,
   "outputs": [],
   "source": [
    "\n"
   ],
   "metadata": {
    "collapsed": false,
    "pycharm": {
     "name": "#%%\n"
    }
   }
  }
 ],
 "metadata": {
  "kernelspec": {
   "display_name": "Python 2",
   "language": "python",
   "name": "python2"
  },
  "language_info": {
   "codemirror_mode": {
    "name": "ipython",
    "version": 2
   },
   "file_extension": ".py",
   "mimetype": "text/x-python",
   "name": "python",
   "nbconvert_exporter": "python",
   "pygments_lexer": "ipython2",
   "version": "2.7.13"
  },
  "pycharm": {
   "stem_cell": {
    "cell_type": "raw",
    "source": [],
    "metadata": {
     "collapsed": false
    }
   }
  }
 },
 "nbformat": 4,
 "nbformat_minor": 2
}