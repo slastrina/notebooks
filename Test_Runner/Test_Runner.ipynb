{
 "cells": [
  {
   "cell_type": "code",
   "execution_count": 1,
   "metadata": {
    "collapsed": false
   },
   "outputs": [],
   "source": [
    "from lib import pkgutil\n",
    "import os\n",
    "import importlib\n",
    "import tests # we import the base test directory and then call import_submodule to recursively import the tests within"
   ]
  },
  {
   "cell_type": "code",
   "execution_count": 2,
   "metadata": {
    "collapsed": false
   },
   "outputs": [
    {
     "name": "stdout",
     "output_type": "stream",
     "text": [
      "/opt/notebooks/Test_Runner/results\n"
     ]
    }
   ],
   "source": [
    "output_dir = os.path.abspath(\"results/\")\n",
    "print(output_dir)"
   ]
  },
  {
   "cell_type": "code",
   "execution_count": 6,
   "metadata": {
    "collapsed": false,
    "scrolled": true
   },
   "outputs": [
    {
     "name": "stdout",
     "output_type": "stream",
     "text": [
      "{'tests.template': <module 'tests.template' from 'tests/template.pyc'>}\n",
      "['__builtins__', '__doc__', '__file__', '__name__', '__package__', 'snetTest']\n",
      "tests.template\n",
      "Pole Utilisation Report\n",
      "TC01\n",
      "None\n",
      "Samuel Lastrina\n",
      "hello\n",
      "/opt/notebooks/Test_Runner/results\n",
      "None\n"
     ]
    }
   ],
   "source": [
    "def import_submodules(package, recursive=True):\n",
    "    \"\"\" Import all submodules of a module, recursively, including subpackages\n",
    "\n",
    "    :param package: package (name or actual module)\n",
    "    :type package: str | module\n",
    "    :rtype: dict[str, types.ModuleType]\n",
    "    \"\"\"\n",
    "    if isinstance(package, str):\n",
    "        package = importlib.import_module(package)\n",
    "    results = {}\n",
    "    for loader, name, is_pkg in pkgutil.walk_packages(package.__path__):\n",
    "        full_name = package.__name__ + '.' + name\n",
    "        results[full_name] = importlib.import_module(full_name)\n",
    "        if recursive and is_pkg:\n",
    "            results.update(import_submodules(full_name))\n",
    "    return results\n",
    "\n",
    "results = import_submodules(tests, False)\n",
    "\n",
    "print(results)\n",
    "\n",
    "print(dir(results['tests.template']))\n",
    "\n",
    "#theclass = results['tests.template'].test()\n",
    "print(results['tests.template'].__name__)\n",
    "\n",
    "#print theclass.sayHello()\n",
    "\n",
    "for scriptName in results:\n",
    "    # results is the dict of modules, scriptName is the actual module, test is the class name, sayhello is the function\n",
    "    theTest = results[scriptName].snetTest(output_dir)\n",
    "    print(theTest.get_tool_name())\n",
    "    print(theTest.get_test_case())\n",
    "    print(theTest.get_jira_address())\n",
    "    print(theTest.get_author())\n",
    "    print(theTest.sayHello())\n",
    "    print(theTest.get_output_path())\n",
    "    print(theTest.get_result())\n",
    "\n"
   ]
  }
 ],
 "metadata": {
  "kernelspec": {
   "display_name": "Python 2",
   "language": "python",
   "name": "python2"
  },
  "language_info": {
   "codemirror_mode": {
    "name": "ipython",
    "version": 2
   },
   "file_extension": ".py",
   "mimetype": "text/x-python",
   "name": "python",
   "nbconvert_exporter": "python",
   "pygments_lexer": "ipython2",
   "version": "2.7.13"
  },
  "pycharm": {
   "stem_cell": {
    "cell_type": "raw",
    "source": [],
    "metadata": {
     "collapsed": false
    }
   }
  }
 },
 "nbformat": 4,
 "nbformat_minor": 2
}