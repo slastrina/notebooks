{
 "cells": [
  {
   "cell_type": "code",
   "execution_count": 26,
   "metadata": {
    "pycharm": {
     "is_executing": false
    }
   },
   "outputs": [],
   "source": [
    "# https://github.com/devopshq/artifactory\n",
    "from artifactory import ArtifactoryPath\n",
    "import os\n",
    "base_path = \"http://127.0.0.1:8086/artifactory\""
   ]
  },
  {
   "cell_type": "code",
   "execution_count": 27,
   "metadata": {
    "pycharm": {
     "is_executing": false
    }
   },
   "outputs": [],
   "source": [
    "# Directory Walking\n",
    "def directory_walk(path):\n",
    "    \n",
    "    path = ArtifactoryPath(path)\n",
    "    for p in path:\n",
    "        print(p)"
   ]
  },
  {
   "cell_type": "code",
   "execution_count": 28,
   "outputs": [
    {
     "name": "stdout",
     "text": [
      "http://127.0.0.1:8086/artifactory/snet_test/text_artifact\nhttp://127.0.0.1:8086/artifactory/snet_test/tools\n"
     ],
     "output_type": "stream"
    }
   ],
   "source": [
    "# User and password\n",
    "path = ArtifactoryPath(\"http://127.0.0.1:8086/artifactory/snet_test\", auth=(\"admin\", \"password\"))\n",
    "\n",
    "for p in path:\n",
    "    print(p)"
   ],
   "metadata": {
    "collapsed": false,
    "pycharm": {
     "name": "#%%\n",
     "is_executing": false
    }
   }
  },
  {
   "cell_type": "code",
   "execution_count": 44,
   "outputs": [],
   "source": [
    "with open('inputs/text_artifact-1.0.txt', 'w') as f:\n",
    "    f.write('sample data')\n",
    "with open('inputs/text_artifact-1.1.txt', 'w') as f:\n",
    "    f.write('sample data')\n",
    "with open('inputs/text_artifact-1.2.txt', 'w') as f:\n",
    "    f.write('sample data')\n"
   ],
   "metadata": {
    "collapsed": false,
    "pycharm": {
     "name": "#%%\n",
     "is_executing": false
    }
   }
  },
  {
   "cell_type": "code",
   "execution_count": 45,
   "outputs": [],
   "source": [
    "path = ArtifactoryPath(\"http://127.0.0.1:8086/artifactory/snet_test/text_artifact\", auth=(\"admin\", \"password\"))\n",
    "\n",
    "if not path.exists():\n",
    "    path.mkdir()"
   ],
   "metadata": {
    "collapsed": false,
    "pycharm": {
     "name": "#%%\n",
     "is_executing": false
    }
   }
  },
  {
   "cell_type": "code",
   "execution_count": 46,
   "outputs": [],
   "source": [
    "# uploading based on simple-layout ([orgPath]/[module]/[module]-[baseRev].[ext])\n",
    "repo_path = \"/snet_test\"\n",
    "org_path = \"/tools\"\n",
    "module = \"/text_artifact\"\n",
    "\n",
    "repo = base_path+repo_path+org_path+module\n",
    "\n",
    "path = ArtifactoryPath(repo, auth=(\"admin\", \"password\"))\n",
    "\n",
    "if not path.exists():\n",
    "    path.mkdir()\n",
    "\n",
    "path.deploy_file(\"./inputs/text_artifact-1.0.txt\")\n",
    "path.deploy_file(\"./inputs/text_artifact-1.1.txt\")\n",
    "path.deploy_file(\"./inputs/text_artifact-1.2.txt\")"
   ],
   "metadata": {
    "collapsed": false,
    "pycharm": {
     "name": "#%%\n",
     "is_executing": false
    }
   }
  },
  {
   "cell_type": "code",
   "execution_count": 32,
   "outputs": [
    {
     "name": "stdout",
     "text": [
      "http://127.0.0.1:8086/artifactory/snet_test/tools/text_artifact/text_artifact-1.0.txt\nhttp://127.0.0.1:8086/artifactory/snet_test/tools/text_artifact/text_artifact-1.1.txt\nhttp://127.0.0.1:8086/artifactory/snet_test/tools/text_artifact/text_artifact-1.2.txt\n"
     ],
     "output_type": "stream"
    }
   ],
   "source": [
    "# retrieve artifact hashes\n",
    "directory_walk(\"http://127.0.0.1:8086/artifactory/snet_test/tools/text_artifact\")"
   ],
   "metadata": {
    "collapsed": false,
    "pycharm": {
     "name": "#%%\n",
     "is_executing": false
    }
   }
  },
  {
   "cell_type": "code",
   "execution_count": 33,
   "outputs": [
    {
     "name": "stdout",
     "text": [
      "ArtifactoryFileStat(ctime=datetime.datetime(2019, 11, 25, 0, 52, 8, 347000, tzinfo=tzutc()), mtime=datetime.datetime(2019, 11, 25, 5, 43, 9, 3000, tzinfo=tzutc()), created_by='admin', modified_by='admin', mime_type='text/plain', size=11, sha1='3579307d55e123bde331b3eefce08090bea3fbe7', sha256='f107aac59dff1d49ebfedb7f03877eaa0297f9a7d3cff26edfc75406f222256d', md5='26e078b87fdaa3206ab8bf63a6096c07', is_dir=False, children=None)\n26e078b87fdaa3206ab8bf63a6096c07\n3579307d55e123bde331b3eefce08090bea3fbe7\nf107aac59dff1d49ebfedb7f03877eaa0297f9a7d3cff26edfc75406f222256d\n2019-11-25 00:52:08.347000+00:00\nFalse\n11\n"
     ],
     "output_type": "stream"
    }
   ],
   "source": [
    "# retrieve md5 sum and other stats\n",
    "\n",
    "path = ArtifactoryPath(\"http://127.0.0.1:8086/artifactory/snet_test/tools/text_artifact/text_artifact-1.0.txt\")\n",
    "\n",
    "# Get FileStat\n",
    "stat = ArtifactoryPath.stat(path)\n",
    "print(stat)\n",
    "print(stat.md5)\n",
    "print(stat.sha1)\n",
    "print(stat.sha256)\n",
    "print(stat.ctime)\n",
    "print(stat.is_dir)\n",
    "print(stat.size)"
   ],
   "metadata": {
    "collapsed": false,
    "pycharm": {
     "name": "#%%\n",
     "is_executing": false
    }
   }
  },
  {
   "cell_type": "code",
   "execution_count": 42,
   "outputs": [],
   "source": [
    "def download_direct(artifact, dest):      \n",
    "    arti_path = ArtifactoryPath(artifact)\n",
    "    \n",
    "    with arti_path.open() as fd:\n",
    "        with open(os.path.join(dest, arti_path.stem), \"wb\") as out:\n",
    "            out.write(fd.read())\n",
    "\n",
    "def download_artifact(artifact, dest):\n",
    "    artifact_path = '/'.join([base_path, artifact['repo'], artifact['path'], artifact['name']])\n",
    "       \n",
    "    arti_path = ArtifactoryPath(artifact_path)\n",
    "    \n",
    "    with arti_path.open() as fd:\n",
    "        with open(os.path.join(dest, artifact['name']), \"wb\") as out:\n",
    "            out.write(fd.read())"
   ],
   "metadata": {
    "collapsed": false,
    "pycharm": {
     "name": "#%%\n",
     "is_executing": false
    }
   }
  },
  {
   "cell_type": "code",
   "execution_count": 35,
   "outputs": [
    {
     "name": "stdout",
     "text": [
      "[{'repo': 'snet_test', 'path': 'tools/text_artifact', 'name': 'text_artifact-1.2.txt', 'type': 'file', 'size': 11, 'created': '2019-11-25T00:52:08.399Z', 'created_by': 'admin', 'modified': '2019-11-25T05:43:09.109Z', 'modified_by': 'admin', 'updated': '2019-11-25T05:43:09.120Z'}]\n"
     ],
     "output_type": "stream"
    }
   ],
   "source": [
    "# Retrieve latest artifact using aql (probably not exposed without credentials)\n",
    "base_path = \"http://127.0.0.1:8086/artifactory\"\n",
    "repo = \"snet_test\"\n",
    "org = \"tools\"\n",
    "module = \"text_artifact\"\n",
    "\n",
    "aql = ArtifactoryPath(base_path, auth=(\"admin\", \"password\"))\n",
    "\n",
    "args = [\"items.find\", {\"$and\": [\n",
    "        { \"repo\": {\"$eq\": repo} },\n",
    "        {\n",
    "            \"$or\": [\n",
    "                {\"path\": {\"$match\": org+'/'+module}}\n",
    "            ]\n",
    "        }\n",
    "        ]\n",
    "},\n",
    "\".sort\", {\"$desc\" : [\"created\"]},\n",
    "\".limit\", [1]\n",
    "]\n",
    "artifacts_list = aql.aql(*args)\n",
    "\n",
    "print(artifacts_list)\n",
    "\n",
    "if artifacts_list:\n",
    "    download_artifact(artifacts_list[0], 'downloads')"
   ],
   "metadata": {
    "collapsed": false,
    "pycharm": {
     "name": "#%%\n",
     "is_executing": false
    }
   }
  },
  {
   "cell_type": "code",
   "execution_count": 47,
   "outputs": [
    {
     "name": "stdout",
     "text": [
      "http://127.0.0.1:8086/artifactory/snet_test/tools/text_artifact/text_artifact-1.2.txt\n"
     ],
     "output_type": "stream"
    }
   ],
   "source": [
    "# Retrieve latest artifact using pathlib flavour\n",
    "base_path = \"http://127.0.0.1:8086/artifactory\"\n",
    "repo = \"snet_test\"\n",
    "org = \"tools\"\n",
    "module = \"text_artifact\"\n",
    "\n",
    "path = ArtifactoryPath(\"http://127.0.0.1:8086/artifactory/snet_test/tools/text_artifact/\")\n",
    "\n",
    "newest_file = (max(path))\n",
    "print(newest_file)\n",
    "\n",
    "if newest_file:\n",
    "    download_direct(newest_file, 'downloads')"
   ],
   "metadata": {
    "collapsed": false,
    "pycharm": {
     "name": "#%%\n",
     "is_executing": false
    }
   }
  },
  {
   "cell_type": "code",
   "execution_count": 36,
   "outputs": [],
   "source": [],
   "metadata": {
    "collapsed": false,
    "pycharm": {
     "name": "#%%",
     "is_executing": false
    }
   }
  }
 ],
 "metadata": {
  "kernelspec": {
   "display_name": "Python 3",
   "language": "python",
   "name": "python3"
  },
  "language_info": {
   "codemirror_mode": {
    "name": "ipython",
    "version": 3
   },
   "file_extension": ".py",
   "mimetype": "text/x-python",
   "name": "python",
   "nbconvert_exporter": "python",
   "pygments_lexer": "ipython3",
   "version": "3.7.4"
  },
  "pycharm": {
   "stem_cell": {
    "cell_type": "raw",
    "source": [],
    "metadata": {
     "collapsed": false
    }
   }
  }
 },
 "nbformat": 4,
 "nbformat_minor": 2
}