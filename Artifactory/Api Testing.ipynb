{
 "cells": [
  {
   "cell_type": "code",
   "execution_count": 4,
   "metadata": {
    "pycharm": {
     "is_executing": false
    }
   },
   "outputs": [],
   "source": [
    "# https://github.com/devopshq/artifactory\n",
    "\n",
    "import requests.packages.urllib3 as urllib3\n",
    "urllib3.disable_warnings()\n",
    "\n",
    "from artifactory import ArtifactoryPath\n",
    "import os\n",
    "base_path = \"http://127.0.0.1:8086/artifactory\""
   ]
  },
  {
   "cell_type": "code",
   "execution_count": 39,
   "metadata": {
    "pycharm": {
     "is_executing": false
    }
   },
   "outputs": [],
   "source": [
    "# Directory Walking\n",
    "def directory_walk(path):\n",
    "    \n",
    "    path = ArtifactoryPath(path)\n",
    "    return [x for x in path]\n",
    "        "
   ]
  },
  {
   "cell_type": "code",
   "execution_count": 47,
   "outputs": [
    {
     "data": {
      "text/plain": "['__bytes__',\n '__class__',\n '__delattr__',\n '__dir__',\n '__doc__',\n '__enter__',\n '__eq__',\n '__exit__',\n '__format__',\n '__fspath__',\n '__ge__',\n '__getattribute__',\n '__gt__',\n '__hash__',\n '__init__',\n '__init_subclass__',\n '__iter__',\n '__le__',\n '__lt__',\n '__module__',\n '__ne__',\n '__new__',\n '__reduce__',\n '__reduce_ex__',\n '__repr__',\n '__rtruediv__',\n '__setattr__',\n '__sizeof__',\n '__slots__',\n '__str__',\n '__subclasshook__',\n '__truediv__',\n '_accessor',\n '_cached_cparts',\n '_closed',\n '_cparts',\n '_drv',\n '_flavour',\n '_format_parsed_parts',\n '_from_parsed_parts',\n '_from_parts',\n '_hash',\n '_init',\n '_make_child',\n '_make_child_relpath',\n '_opener',\n '_parse_args',\n '_parts',\n '_pparts',\n '_raise_closed',\n '_raw_open',\n '_root',\n '_str',\n 'absolute',\n 'anchor',\n 'aql',\n 'as_posix',\n 'as_uri',\n 'auth',\n 'cert',\n 'chmod',\n 'copy',\n 'create_aql_text',\n 'creator',\n 'cwd',\n 'del_properties',\n 'deploy',\n 'deploy_deb',\n 'deploy_file',\n 'drive',\n 'exists',\n 'expanduser',\n 'find_group',\n 'find_permission_target',\n 'find_repository_local',\n 'find_repository_virtual',\n 'find_user',\n 'from_aql',\n 'glob',\n 'group',\n 'home',\n 'is_absolute',\n 'is_block_device',\n 'is_char_device',\n 'is_dir',\n 'is_fifo',\n 'is_file',\n 'is_mount',\n 'is_reserved',\n 'is_socket',\n 'is_symlink',\n 'iterdir',\n 'joinpath',\n 'lchmod',\n 'lstat',\n 'match',\n 'mkdir',\n 'move',\n 'name',\n 'open',\n 'owner',\n 'parent',\n 'parents',\n 'parts',\n 'path_in_repo',\n 'properties',\n 'read_bytes',\n 'read_text',\n 'relative_to',\n 'rename',\n 'replace',\n 'repo',\n 'resolve',\n 'rglob',\n 'rmdir',\n 'root',\n 'samefile',\n 'session',\n 'set_properties',\n 'stat',\n 'stem',\n 'suffix',\n 'suffixes',\n 'symlink_to',\n 'touch',\n 'unlink',\n 'verify',\n 'with_name',\n 'with_suffix',\n 'write_bytes',\n 'write_text']"
     },
     "metadata": {},
     "output_type": "execute_result",
     "execution_count": 47
    }
   ],
   "source": [
    "dir(directory_walk(\"http://127.0.0.1:8086/artifactory/snet_test/tools/text_artifact\")[0])"
   ],
   "metadata": {
    "collapsed": false,
    "pycharm": {
     "name": "#%%\n",
     "is_executing": false
    }
   }
  },
  {
   "cell_type": "code",
   "execution_count": 49,
   "outputs": [
    {
     "name": "stdout",
     "text": [
      "<bound method Path.absolute of ArtifactoryPath('http://127.0.0.1:8086/artifactory/snet_test/tools/text_artifact/text_artifact-1.0.txt')>\n"
     ],
     "output_type": "stream"
    }
   ],
   "source": [
    "# retrieve artifact hashes\n",
    "print(directory_walk(\"http://127.0.0.1:8086/artifactory/snet_test/tools/text_artifact\")[0].absolute)"
   ],
   "metadata": {
    "collapsed": false,
    "pycharm": {
     "name": "#%%\n",
     "is_executing": false
    }
   }
  },
  {
   "cell_type": "code",
   "execution_count": 25,
   "outputs": [
    {
     "name": "stdout",
     "text": [
      "http://127.0.0.1:8086/artifactory/snet_test/text_artifact\n"
     ],
     "output_type": "stream"
    }
   ],
   "source": [
    "# User and password\n",
    "path = ArtifactoryPath(\"http://127.0.0.1:8086/artifactory/snet_test\", auth=(\"admin\", \"password\"))\n",
    "\n",
    "for p in path:\n",
    "    print(p)"
   ],
   "metadata": {
    "collapsed": false,
    "pycharm": {
     "name": "#%%\n",
     "is_executing": false
    }
   }
  },
  {
   "cell_type": "code",
   "execution_count": 26,
   "outputs": [],
   "source": [
    "with open('inputs/text_artifact-1.0.txt', 'w') as f:\n",
    "    f.write('sample data')\n",
    "with open('inputs/text_artifact-1.1.txt', 'w') as f:\n",
    "    f.write('sample data')\n",
    "with open('inputs/text_artifact-1.2.txt', 'w') as f:\n",
    "    f.write('sample data')\n"
   ],
   "metadata": {
    "collapsed": false,
    "pycharm": {
     "name": "#%%\n",
     "is_executing": false
    }
   }
  },
  {
   "cell_type": "code",
   "execution_count": 27,
   "outputs": [],
   "source": [
    "path = ArtifactoryPath(\"http://127.0.0.1:8086/artifactory/snet_test/text_artifact\", auth=(\"admin\", \"password\"))\n",
    "\n",
    "if not path.exists():\n",
    "    path.mkdir()"
   ],
   "metadata": {
    "collapsed": false,
    "pycharm": {
     "name": "#%%\n",
     "is_executing": false
    }
   }
  },
  {
   "cell_type": "code",
   "execution_count": 28,
   "outputs": [],
   "source": [
    "# uploading based on simple-layout ([orgPath]/[module]/[module]-[baseRev].[ext])\n",
    "repo_path = \"/snet_test\"\n",
    "org_path = \"/tools\"\n",
    "module = \"/text_artifact\"\n",
    "\n",
    "repo = base_path+repo_path+org_path+module\n",
    "\n",
    "path = ArtifactoryPath(repo, auth=(\"admin\", \"password\"))\n",
    "\n",
    "if not path.exists():\n",
    "    path.mkdir()\n",
    "\n",
    "path.deploy_file(\"./inputs/text_artifact-1.0.txt\")\n",
    "path.deploy_file(\"./inputs/text_artifact-1.1.txt\")\n",
    "path.deploy_file(\"./inputs/text_artifact-1.2.txt\")\n"
   ],
   "metadata": {
    "collapsed": false,
    "pycharm": {
     "name": "#%%\n",
     "is_executing": false
    }
   }
  },
  {
   "cell_type": "code",
   "execution_count": 30,
   "outputs": [
    {
     "name": "stdout",
     "text": [
      "ArtifactoryFileStat(ctime=datetime.datetime(2019, 12, 2, 2, 27, 22, 367000, tzinfo=tzutc()), mtime=datetime.datetime(2019, 12, 2, 2, 27, 22, 354000, tzinfo=tzutc()), created_by='admin', modified_by='admin', mime_type='text/plain', size=11, sha1='3579307d55e123bde331b3eefce08090bea3fbe7', sha256='f107aac59dff1d49ebfedb7f03877eaa0297f9a7d3cff26edfc75406f222256d', md5='26e078b87fdaa3206ab8bf63a6096c07', is_dir=False, children=None)\n26e078b87fdaa3206ab8bf63a6096c07\n3579307d55e123bde331b3eefce08090bea3fbe7\nf107aac59dff1d49ebfedb7f03877eaa0297f9a7d3cff26edfc75406f222256d\n2019-12-02 02:27:22.367000+00:00\nFalse\n11\n"
     ],
     "output_type": "stream"
    }
   ],
   "source": [
    "# retrieve md5 sum and other stats\n",
    "\n",
    "path = ArtifactoryPath(\"http://127.0.0.1:8086/artifactory/snet_test/tools/text_artifact/text_artifact-1.0.txt\")\n",
    "\n",
    "# Get FileStat\n",
    "stat = ArtifactoryPath.stat(path)\n",
    "print(stat)\n",
    "print(stat.md5)\n",
    "print(stat.sha1)\n",
    "print(stat.sha256)\n",
    "print(stat.ctime)\n",
    "print(stat.is_dir)\n",
    "print(stat.size)"
   ],
   "metadata": {
    "collapsed": false,
    "pycharm": {
     "name": "#%%\n",
     "is_executing": false
    }
   }
  },
  {
   "cell_type": "code",
   "execution_count": 31,
   "outputs": [],
   "source": [
    "def download_direct(artifact, dest):      \n",
    "    arti_path = ArtifactoryPath(artifact, verify=False)\n",
    "    \n",
    "    with arti_path.open() as fd:\n",
    "        with open(os.path.join(dest, arti_path.stem), \"wb\") as out:\n",
    "            out.write(fd.read())\n",
    "\n",
    "def download_artifact(artifact, dest):\n",
    "    artifact_path = '/'.join([base_path, artifact['repo'], artifact['path'], artifact['name']])\n",
    "       \n",
    "    arti_path = ArtifactoryPath(artifact_path, verify=False)\n",
    "    \n",
    "    with arti_path.open() as fd:\n",
    "        with open(os.path.join(dest, artifact['name']), \"wb\") as out:\n",
    "            out.write(fd.read())"
   ],
   "metadata": {
    "collapsed": false,
    "pycharm": {
     "name": "#%%\n",
     "is_executing": false
    }
   }
  },
  {
   "cell_type": "code",
   "execution_count": 32,
   "outputs": [
    {
     "name": "stdout",
     "text": [
      "[{'repo': 'snet_test', 'path': 'tools/text_artifact', 'name': 'text_artifact-1.2.txt', 'type': 'file', 'size': 11, 'created': '2019-12-02T02:27:22.582Z', 'created_by': 'admin', 'modified': '2019-12-02T02:27:22.575Z', 'modified_by': 'admin', 'updated': '2019-12-02T02:27:22.583Z'}]\n"
     ],
     "output_type": "stream"
    }
   ],
   "source": [
    "# Retrieve latest artifact using aql (probably not exposed without credentials)\n",
    "base_path = \"http://127.0.0.1:8086/artifactory\"\n",
    "repo = \"snet_test\"\n",
    "org = \"tools\"\n",
    "module = \"text_artifact\"\n",
    "\n",
    "aql = ArtifactoryPath(base_path, auth=(\"admin\", \"password\"))\n",
    "\n",
    "args = [\"items.find\", {\"$and\": [\n",
    "        { \"repo\": {\"$eq\": repo} },\n",
    "        {\n",
    "            \"$or\": [\n",
    "                {\"path\": {\"$match\": org+'/'+module}}\n",
    "            ]\n",
    "        }\n",
    "        ]\n",
    "},\n",
    "\".sort\", {\"$desc\" : [\"created\"]},\n",
    "\".limit\", [1]\n",
    "]\n",
    "artifacts_list = aql.aql(*args)\n",
    "\n",
    "print(artifacts_list)\n",
    "\n",
    "if artifacts_list:\n",
    "    download_artifact(artifacts_list[0], 'downloads')"
   ],
   "metadata": {
    "collapsed": false,
    "pycharm": {
     "name": "#%%\n",
     "is_executing": false
    }
   }
  },
  {
   "cell_type": "code",
   "execution_count": 33,
   "outputs": [
    {
     "name": "stdout",
     "text": [
      "http://127.0.0.1:8086/artifactory/snet_test/tools/text_artifact/text_artifact-1.2.txt\n"
     ],
     "output_type": "stream"
    }
   ],
   "source": [
    "# Retrieve latest artifact using pathlib flavour\n",
    "path = ArtifactoryPath(\"http://127.0.0.1:8086/artifactory/snet_test/tools/text_artifact/\", verify=False)\n",
    "\n",
    "try:\n",
    "\tnewest_file = (max(path))\n",
    "\tprint(newest_file)\n",
    "\tdownload_direct(newest_file, 'downloads')\n",
    "except:\n",
    "\tprint('file not found')"
   ],
   "metadata": {
    "collapsed": false,
    "pycharm": {
     "name": "#%%\n",
     "is_executing": false
    }
   }
  },
  {
   "cell_type": "code",
   "execution_count": 34,
   "outputs": [
    {
     "name": "stdout",
     "text": [
      "ArtifactoryFileStat(ctime=datetime.datetime(2019, 12, 2, 2, 27, 22, 582000, tzinfo=tzutc()), mtime=datetime.datetime(2019, 12, 2, 2, 27, 22, 575000, tzinfo=tzutc()), created_by='admin', modified_by='admin', mime_type='text/plain', size=11, sha1='3579307d55e123bde331b3eefce08090bea3fbe7', sha256='f107aac59dff1d49ebfedb7f03877eaa0297f9a7d3cff26edfc75406f222256d', md5='26e078b87fdaa3206ab8bf63a6096c07', is_dir=False, children=None)\n26e078b87fdaa3206ab8bf63a6096c07\n3579307d55e123bde331b3eefce08090bea3fbe7\nf107aac59dff1d49ebfedb7f03877eaa0297f9a7d3cff26edfc75406f222256d\n2019-12-02 02:27:22.582000+00:00\nFalse\n11\n"
     ],
     "output_type": "stream"
    }
   ],
   "source": [
    "# Retrieve latest artifact using pathlib flavour\n",
    "path = ArtifactoryPath(\"http://127.0.0.1:8086/artifactory/snet_test/tools/text_artifact/\", verify=False)\n",
    "\n",
    "newest_file = (max(path))\n",
    "stat = ArtifactoryPath.stat(newest_file)\n",
    "print(stat)\n",
    "print(stat.md5)\n",
    "print(stat.sha1)\n",
    "print(stat.sha256)\n",
    "print(stat.ctime)\n",
    "print(stat.is_dir)\n",
    "print(stat.size)"
   ],
   "metadata": {
    "collapsed": false,
    "pycharm": {
     "name": "#%%",
     "is_executing": false
    }
   }
  },
  {
   "cell_type": "code",
   "execution_count": 34,
   "outputs": [],
   "source": [],
   "metadata": {
    "collapsed": false,
    "pycharm": {
     "name": "#%%\n",
     "is_executing": false
    }
   }
  }
 ],
 "metadata": {
  "kernelspec": {
   "display_name": "Python 3",
   "language": "python",
   "name": "python3"
  },
  "language_info": {
   "codemirror_mode": {
    "name": "ipython",
    "version": 3
   },
   "file_extension": ".py",
   "mimetype": "text/x-python",
   "name": "python",
   "nbconvert_exporter": "python",
   "pygments_lexer": "ipython3",
   "version": "3.7.4"
  },
  "pycharm": {
   "stem_cell": {
    "cell_type": "raw",
    "source": [],
    "metadata": {
     "collapsed": false
    }
   }
  }
 },
 "nbformat": 4,
 "nbformat_minor": 2
}