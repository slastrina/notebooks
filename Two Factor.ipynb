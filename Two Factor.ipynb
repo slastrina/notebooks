{
 "cells": [
  {
   "cell_type": "code",
   "execution_count": 8,
   "metadata": {
    "pycharm": {
     "is_executing": false
    }
   },
   "outputs": [
    {
     "data": {
      "text/plain": "<IPython.core.display.HTML object>",
      "text/html": "<img src=\"data:image/png;base64,iVBORw0KGgoAAAANSUhEUgAAAKsAAACrAQAAAAAxk1G0AAACw0lEQVR4nOWXv83bMBDFT2DBTlqAANdgx5WkBSxrAWkldlyDABcQOxaELo/+7HwpUuTUJEAEwzB+Bijdn/fuRPy7K9H/jU+ipbYHpYfjg3MJNMhx4bZE3iI/vT1iGiKIHAezMM5THNJU8T8tt/BazfC6Q6nquI+JvCGdlpr5HuY2a94qrVGV0Nbv4AW45zua788vZfhzjKuwOsms0Z5eHd8NIcHId1AcE5Ehyk9qgxyfLpfayKmnSwPnS+dNjkulITYEN0VDLu86DTcwuk/ng80Q7e5QNLXJ8anN6Pj0CA4/+mOucsyscCTucMR81HxRu4MjDlNc6UH21ITjNzlG2Z++TRWdiHa2l/6qvAyfPs0eseYuUEiqpkWOL593Zy9Ho07k8IxmlWP04MT56dBBAHmrbZHjUnnvCbPP3jjwCVtuYKaHNzPB8HC8hRoWOb4cju9KemjUnC/9VXkpJigS3kBoRk0zmeEGph7W7NMaMleIEiZxA/eCXw7S7KzEdy1FuFTb9dT9UpV+9h18IkqnjtAQK/6c6W2mMkywlryF7jcLvMrzJscYHUNNE77Z7l59ZpoQ91MRH3IGWcAh3meL8OV7fCM10rSEBtu7gTmoHQ3o0cL5CKoPWDk+IQWIKSJJMC0Mk3fRRLgE24dJMCM2DnQBfTYOCebYZjydM0OFmGgNX5NEihUyvUUzBTO7vgEVOS4Vj4bj1a5hwLhDWm/g8Cq75j6IKrKeJjlGmrsuNUwCmkiz/jSECFNf39DIa8D6gw7iG/jUbaR8OWwcNPal461LEcbV9a3TipUhYhbZQ46xha0vY1h60ez2WRZEGPsgRjTaecV2GTABPpNEhPsWhkaGLhs6iN7+LcaQ1NiHfF+0D3jnLYya7z3NMCqsP2m4gRFlTaTx0pD74kA/V2cBRr4fr0VsCxY2c/q8yfFfeE/7x/EPghhU1gMVO9YAAAAASUVORK5CYII=\">"
     },
     "metadata": {},
     "output_type": "display_data"
    }
   ],
   "source": [
    "import pyqrcode\n",
    "import io\n",
    "import os\n",
    "import base64\n",
    "\n",
    "username = 'username'\n",
    "user_secret = base64.b32encode(os.urandom(10)).decode('utf-8')\n",
    "\n",
    "path = f'otpauth://totp/2FA-Demo:{username}?secret={user_secret}&issuer=spatialinfo'\n",
    "c = pyqrcode.create(path)\n",
    "s = io.BytesIO()\n",
    "c.png(s,scale=3)\n",
    "encoded = base64.b64encode(s.getvalue()).decode(\"ascii\")\n",
    "\n",
    "from IPython.display import display, HTML\n",
    "display(HTML('''<img src=\"data:image/png;base64,''' + encoded + '''\">'''))"
   ]
  },
  {
   "cell_type": "code",
   "execution_count": 9,
   "metadata": {
    "pycharm": {
     "is_executing": false
    }
   },
   "outputs": [
    {
     "data": {
      "text/plain": "False"
     },
     "metadata": {},
     "output_type": "execute_result",
     "execution_count": 9
    }
   ],
   "source": [
    "# Verifier\n",
    "import onetimepass\n",
    "\n",
    "# scan the above barcode using google authenticator then type the code that appears here\n",
    "onetimepass.valid_totp('579347', user_secret) "
   ]
  },
  {
   "cell_type": "code",
   "execution_count": null,
   "outputs": [],
   "source": [
    "\n"
   ],
   "metadata": {
    "collapsed": false,
    "pycharm": {
     "name": "#%%\n"
    }
   }
  }
 ],
 "metadata": {
  "kernelspec": {
   "display_name": "Python 3",
   "language": "python",
   "name": "python3"
  },
  "language_info": {
   "codemirror_mode": {
    "name": "ipython",
    "version": 3
   },
   "file_extension": ".py",
   "mimetype": "text/x-python",
   "name": "python",
   "nbconvert_exporter": "python",
   "pygments_lexer": "ipython3",
   "version": "3.6.5"
  },
  "pycharm": {
   "stem_cell": {
    "cell_type": "raw",
    "source": [],
    "metadata": {
     "collapsed": false
    }
   }
  }
 },
 "nbformat": 4,
 "nbformat_minor": 2
}