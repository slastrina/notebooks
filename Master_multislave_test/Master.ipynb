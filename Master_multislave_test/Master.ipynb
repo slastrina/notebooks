{
 "cells": [
  {
   "cell_type": "code",
   "execution_count": 1,
   "metadata": {
    "collapsed": false,
    "scrolled": true
   },
   "outputs": [
    {
     "name": "stdout",
     "output_type": "stream",
     "text": [
      "Thread 1 \"Listen\" Started\n",
      "Thread 2 \"HeartBeat\" Started\n",
      "Mon Jul  2 02:55:53 2018: ****** Heartbeat ******\n",
      "Mon Jul  2 02:55:58 2018: ****** Heartbeat ******\n",
      "Mon Jul  2 02:55:58 2018, Listen, Message: Slave 1 Alive, Sender: ('172.17.0.7', 40318)\n",
      "Mon Jul  2 02:56:03 2018: ****** Heartbeat ******\n",
      "Mon Jul  2 02:56:03 2018, Listen, Message: Slave 1 Alive, Sender: ('172.17.0.7', 40318)\n",
      "Mon Jul  2 02:56:08 2018: ****** Heartbeat ******\n",
      "Mon Jul  2 02:56:08 2018, Listen, Message: Slave 1 Alive, Sender: ('172.17.0.7', 40318)\n",
      "Mon Jul  2 02:56:08 2018, Listen, Message: Slave 2 Alive, Sender: ('172.17.0.7', 50153)\n",
      "Mon Jul  2 02:56:13 2018: ****** Heartbeat ******\n",
      "Mon Jul  2 02:56:13 2018, Listen, Message: Slave 1 Alive, Sender: ('172.17.0.7', 40318)\n",
      "Mon Jul  2 02:56:13 2018, Listen, Message: Slave 2 Alive, Sender: ('172.17.0.7', 50153)\n",
      "Mon Jul  2 02:56:18 2018: ****** Heartbeat ******\n",
      "Mon Jul  2 02:56:18 2018, Listen, Message: Slave 1 Alive, Sender: ('172.17.0.7', 40318)\n",
      "Mon Jul  2 02:56:18 2018, Listen, Message: Slave 2 Alive, Sender: ('172.17.0.7', 50153)\n"
     ]
    },
    {
     "ename": "KeyboardInterrupt",
     "evalue": "",
     "output_type": "error",
     "traceback": [
      "\u001b[0;31m---------------------------------------------------------------------------\u001b[0m",
      "\u001b[0;31mKeyboardInterrupt\u001b[0m                         Traceback (most recent call last)",
      "\u001b[0;32m<ipython-input-1-c9966ecfccce>\u001b[0m in \u001b[0;36m<module>\u001b[0;34m()\u001b[0m\n\u001b[1;32m     72\u001b[0m \u001b[0;34m\u001b[0m\u001b[0m\n\u001b[1;32m     73\u001b[0m \u001b[0;32mwhile\u001b[0m\u001b[0;34m(\u001b[0m\u001b[0;36m1\u001b[0m\u001b[0;34m)\u001b[0m\u001b[0;34m:\u001b[0m\u001b[0;34m\u001b[0m\u001b[0m\n\u001b[0;32m---> 74\u001b[0;31m     \u001b[0mtime\u001b[0m\u001b[0;34m.\u001b[0m\u001b[0msleep\u001b[0m\u001b[0;34m(\u001b[0m\u001b[0;36m100\u001b[0m\u001b[0;34m)\u001b[0m\u001b[0;34m\u001b[0m\u001b[0m\n\u001b[0m",
      "\u001b[0;31mKeyboardInterrupt\u001b[0m: "
     ]
    }
   ],
   "source": [
    "import socket\n",
    "import struct\n",
    "import threading\n",
    "import time\n",
    "import sys\n",
    "\n",
    "class listenThread (threading.Thread):\n",
    "    def __init__(self, threadID, name, socket, freq):\n",
    "        threading.Thread.__init__(self)\n",
    "        self.threadID = threadID\n",
    "        self.name = name\n",
    "        self.sock = socket\n",
    "        self.freq = freq\n",
    "        \n",
    "    def run(self):\n",
    "        print 'Thread {} \"{}\" Started'.format(self.threadID, self.name)\n",
    "        while(1):\n",
    "            time.sleep(self.freq)\n",
    "            try:\n",
    "                message, address = self.sock.recvfrom(10240)\n",
    "                \n",
    "                print '{}, {}, Message: {}, Sender: {}'.format(time.ctime(time.time()), self.name, message, address)\n",
    "            except:\n",
    "                None\n",
    "                #print \"Unexpected error:\", sys.exc_info()[0]\n",
    "\n",
    "class heartBeatThread (threading.Thread):\n",
    "    def __init__(self, threadID, name, socket, freq, mcast_grp, mcast_port):\n",
    "        threading.Thread.__init__(self)\n",
    "        self.threadID = threadID\n",
    "        self.name = name\n",
    "        self.sock = socket\n",
    "        self.freq = freq\n",
    "        self.mcast_grp = mcast_grp\n",
    "        self.mcast_port = mcast_port\n",
    "        \n",
    "    def run(self):\n",
    "        print 'Thread {} \"{}\" Started'.format(self.threadID, self.name)\n",
    "        while(1):\n",
    "            time.sleep(self.freq)\n",
    "            try:\n",
    "                self.sock.sendto(\"HeartBeat\", (self.mcast_grp, self.mcast_port))\n",
    "                print '{}: ****** Heartbeat ******'.format(time.ctime(time.time()), self.name)\n",
    "            except:\n",
    "                None\n",
    "                #print \"Unexpected error:\", sys.exc_info()[0]\n",
    "\n",
    "# Multicast Socket setup - Receive \n",
    "MCAST_GRP1 = '224.1.1.1'\n",
    "MCAST_PORT1 = 5007\n",
    "sock1 = socket.socket(socket.AF_INET, socket.SOCK_DGRAM, socket.IPPROTO_UDP)\n",
    "sock1.setsockopt(socket.SOL_SOCKET, socket.SO_REUSEADDR, 1)\n",
    "sock1.bind(('', MCAST_PORT1))  # use MCAST_GRP instead of '' to listen only\n",
    "                             # to MCAST_GRP, not all groups on MCAST_PORT\n",
    "mreq = struct.pack(\"4sl\", socket.inet_aton(MCAST_GRP1), socket.INADDR_ANY)\n",
    "sock1.setsockopt(socket.IPPROTO_IP, socket.IP_ADD_MEMBERSHIP, mreq)\n",
    "sock1.setblocking(0)\n",
    "\n",
    "# Multicast Socket setup - Send \n",
    "MCAST_GRP2 = '224.1.1.1' # despite binding to a group we end up accepting all multicast messages in the listen\n",
    "MCAST_PORT2 = 5008\n",
    "sock2 = socket.socket(socket.AF_INET, socket.SOCK_DGRAM, socket.IPPROTO_UDP)\n",
    "sock2.setsockopt(socket.IPPROTO_IP, socket.IP_MULTICAST_TTL, 2)\n",
    "\n",
    "# Create new threads\n",
    "thread1 = listenThread(1, \"Listen\", sock1, 0.05)\n",
    "thread2 = heartBeatThread(2, \"HeartBeat\", sock2, 5, MCAST_GRP2, MCAST_PORT2)\n",
    "\n",
    "# Start new Threads\n",
    "thread1.start()\n",
    "thread2.start()\n",
    "\n",
    "while(1):\n",
    "    time.sleep(100)\n"
   ]
  },
  {
   "cell_type": "code",
   "execution_count": null,
   "metadata": {
    "collapsed": true
   },
   "outputs": [],
   "source": []
  }
 ],
 "metadata": {
  "kernelspec": {
   "display_name": "Python 2",
   "language": "python",
   "name": "python2"
  },
  "language_info": {
   "codemirror_mode": {
    "name": "ipython",
    "version": 2
   },
   "file_extension": ".py",
   "mimetype": "text/x-python",
   "name": "python",
   "nbconvert_exporter": "python",
   "pygments_lexer": "ipython2",
   "version": "2.7.13"
  }
 },
 "nbformat": 4,
 "nbformat_minor": 2
}
