{
 "cells": [
  {
   "cell_type": "code",
   "execution_count": 1,
   "metadata": {
    "collapsed": false
   },
   "outputs": [
    {
     "name": "stdout",
     "output_type": "stream",
     "text": [
      "Thread 1 \"Respond\" Started\n",
      "Mon Jul  2 02:56:08 2018, Receive, Message: \"HeartBeat\", Sender: ('172.17.0.7', 44921)\n",
      "Mon Jul  2 02:56:08 2018, Transmit, Message: \"Slave 2 Alive\"\n",
      "Mon Jul  2 02:56:13 2018, Receive, Message: \"HeartBeat\", Sender: ('172.17.0.7', 44921)\n",
      "Mon Jul  2 02:56:13 2018, Transmit, Message: \"Slave 2 Alive\"\n",
      "Mon Jul  2 02:56:18 2018, Receive, Message: \"HeartBeat\", Sender: ('172.17.0.7', 44921)\n",
      "Mon Jul  2 02:56:18 2018, Transmit, Message: \"Slave 2 Alive\"\n"
     ]
    },
    {
     "ename": "KeyboardInterrupt",
     "evalue": "",
     "output_type": "error",
     "traceback": [
      "\u001b[0;31m---------------------------------------------------------------------------\u001b[0m",
      "\u001b[0;31mKeyboardInterrupt\u001b[0m                         Traceback (most recent call last)",
      "\u001b[0;32m<ipython-input-1-845af35670a4>\u001b[0m in \u001b[0;36m<module>\u001b[0;34m()\u001b[0m\n\u001b[1;32m     61\u001b[0m \u001b[0;34m\u001b[0m\u001b[0m\n\u001b[1;32m     62\u001b[0m \u001b[0;32mwhile\u001b[0m\u001b[0;34m(\u001b[0m\u001b[0;36m1\u001b[0m\u001b[0;34m)\u001b[0m\u001b[0;34m:\u001b[0m\u001b[0;34m\u001b[0m\u001b[0m\n\u001b[0;32m---> 63\u001b[0;31m     \u001b[0mtime\u001b[0m\u001b[0;34m.\u001b[0m\u001b[0msleep\u001b[0m\u001b[0;34m(\u001b[0m\u001b[0;36m100\u001b[0m\u001b[0;34m)\u001b[0m\u001b[0;34m\u001b[0m\u001b[0m\n\u001b[0m",
      "\u001b[0;31mKeyboardInterrupt\u001b[0m: "
     ]
    }
   ],
   "source": [
    "import socket\n",
    "import struct\n",
    "import threading\n",
    "import time\n",
    "import sys\n",
    "\n",
    "class listenThread (threading.Thread):\n",
    "    def __init__(self, threadID, name, socket1, socket2, freq, mcast_grp1, mcast_port1, mcast_grp2, mcast_port2):\n",
    "        threading.Thread.__init__(self)\n",
    "        self.threadID = threadID\n",
    "        self.name = name\n",
    "        self.sock1 = socket1 # Recieve\n",
    "        self.sock2 = socket2 # Send\n",
    "        self.freq = freq\n",
    "        self.mcast_grp1 = mcast_grp1\n",
    "        self.mcast_port1 = mcast_port1\n",
    "        self.mcast_grp2 = mcast_grp2\n",
    "        self.mcast_port2 = mcast_port2\n",
    "        \n",
    "    def run(self):\n",
    "        print 'Thread {} \"{}\" Started'.format(self.threadID, self.name)\n",
    "        while(1):\n",
    "            time.sleep(self.freq)\n",
    "            try:\n",
    "                message, address = sock1.recvfrom(10240)\n",
    "                if 'HeartBeat' in message:\n",
    "                    # print message received\n",
    "                    print '{}, {}, Message: \"{}\", Sender: {}'.format(time.ctime(time.time()), 'Receive', message, address)\n",
    "                    \n",
    "                    # send response\n",
    "                    response = \"Slave 2 Alive\"\n",
    "                    self.sock2.sendto(response, (self.mcast_grp2, self.mcast_port2))\n",
    "                    print '{}, {}, Message: \"{}\"'.format(time.ctime(time.time()), 'Transmit', response)\n",
    "\n",
    "            except:\n",
    "                None\n",
    "                #print \"Unexpected error:\", sys.exc_info()[0]\n",
    "\n",
    "# Multicast Socket setup - Receive \n",
    "MCAST_GRP1 = '224.1.1.1'\n",
    "MCAST_PORT1 = 5008\n",
    "sock1 = socket.socket(socket.AF_INET, socket.SOCK_DGRAM, socket.IPPROTO_UDP)\n",
    "sock1.setsockopt(socket.SOL_SOCKET, socket.SO_REUSEADDR, 1)\n",
    "sock1.bind(('', MCAST_PORT1))  # use MCAST_GRP instead of '' to listen only\n",
    "                             # to MCAST_GRP, not all groups on MCAST_PORT\n",
    "mreq = struct.pack(\"4sl\", socket.inet_aton(MCAST_GRP1), socket.INADDR_ANY)\n",
    "sock1.setsockopt(socket.IPPROTO_IP, socket.IP_ADD_MEMBERSHIP, mreq)\n",
    "sock1.setblocking(0)\n",
    "\n",
    "# Multicast Socket setup - Send \n",
    "MCAST_GRP2 = '224.1.1.1' # despite binding to a group we end up accepting all multicast messages in the listen\n",
    "MCAST_PORT2 = 5007\n",
    "sock2 = socket.socket(socket.AF_INET, socket.SOCK_DGRAM, socket.IPPROTO_UDP)\n",
    "sock2.setsockopt(socket.IPPROTO_IP, socket.IP_MULTICAST_TTL, 2)\n",
    "\n",
    "# Create new threads\n",
    "thread1 = listenThread(1, \"Respond\", sock1 ,sock2, 0.05, MCAST_GRP1, MCAST_PORT1, MCAST_GRP2, MCAST_PORT2)\n",
    "\n",
    "# Start new Threads\n",
    "thread1.start()\n",
    "\n",
    "while(1):\n",
    "    time.sleep(100)\n"
   ]
  },
  {
   "cell_type": "code",
   "execution_count": null,
   "metadata": {
    "collapsed": true
   },
   "outputs": [],
   "source": []
  }
 ],
 "metadata": {
  "kernelspec": {
   "display_name": "Python 2",
   "language": "python",
   "name": "python2"
  }
 },
 "nbformat": 4,
 "nbformat_minor": 2
}
